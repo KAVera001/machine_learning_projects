{
 "cells": [
  {
   "cell_type": "code",
   "execution_count": 3,
   "metadata": {
    "collapsed": false
   },
   "outputs": [],
   "source": [
    "from pyspark.sql import SQLContext\n",
    "from pyspark.sql import DataFrameNaFunctions\n",
    "from pyspark.ml import Pipeline\n",
    "from pyspark.ml.classification import DecisionTreeClassifier\n",
    "from pyspark.ml.feature import Binarizer\n",
    "from pyspark.ml.feature import VectorAssembler, StringIndexer, VectorIndexer\n",
    "from pyspark.ml.evaluation import MulticlassClassificationEvaluator\n",
    "from pyspark.mllib.evaluation import MulticlassMetrics\n",
    "from pyspark.ml.tuning import ParamGridBuilder, CrossValidator\n",
    "from pyspark.ml.evaluation import BinaryClassificationEvaluator\n",
    "from pyspark.mllib.evaluation import BinaryClassificationMetrics"
   ]
  },
  {
   "cell_type": "code",
   "execution_count": 4,
   "metadata": {
    "collapsed": true
   },
   "outputs": [],
   "source": [
    "#import data from file\n",
    "sqlContext = SQLContext(sc)\n",
    "df = sqlContext.read.load('file:///home/cloudera/Downloads/nba_logreg.csv',\n",
    "                         format='com.databricks.spark.csv',\n",
    "                         header='true', inferSchema='true')"
   ]
  },
  {
   "cell_type": "code",
   "execution_count": 5,
   "metadata": {
    "collapsed": false
   },
   "outputs": [
    {
     "data": {
      "text/plain": [
       "['Name',\n",
       " 'GP',\n",
       " 'MIN',\n",
       " 'PTS',\n",
       " 'FGM',\n",
       " 'FGA',\n",
       " 'FG%',\n",
       " 'OREB',\n",
       " 'DREB',\n",
       " 'REB',\n",
       " 'AST',\n",
       " 'STL',\n",
       " 'BLK',\n",
       " 'TOV',\n",
       " 'TARGET_5Yrs']"
      ]
     },
     "execution_count": 5,
     "metadata": {},
     "output_type": "execute_result"
    }
   ],
   "source": [
    "df=df.drop('3P Made').drop('3PA').drop('3P%').drop('FTM').drop('FTA').drop('FT%')\n",
    "df.columns\n",
    "# GP-games played, MIN-minutes played, PTS-PointsPerGame, FGM-FieldGoalsMade, FGA-FieldGoalAttemps\n",
    "# FG%-FieldGoalPercent, REB-Rebounds, AST-Assists, STL-Steals, BLK-Blocks, TOV-Turnovers, \n",
    "# TARGET_5Yrs-Outcome (1-carrer length>=5 / 0-else)"
   ]
  },
  {
   "cell_type": "code",
   "execution_count": 6,
   "metadata": {
    "collapsed": false
   },
   "outputs": [
    {
     "name": "stdout",
     "output_type": "stream",
     "text": [
      "root\n",
      " |-- Name: string (nullable = true)\n",
      " |-- GP: integer (nullable = true)\n",
      " |-- MIN: double (nullable = true)\n",
      " |-- PTS: double (nullable = true)\n",
      " |-- FGM: double (nullable = true)\n",
      " |-- FGA: double (nullable = true)\n",
      " |-- FG%: double (nullable = true)\n",
      " |-- OREB: double (nullable = true)\n",
      " |-- DREB: double (nullable = true)\n",
      " |-- REB: double (nullable = true)\n",
      " |-- AST: double (nullable = true)\n",
      " |-- STL: double (nullable = true)\n",
      " |-- BLK: double (nullable = true)\n",
      " |-- TOV: double (nullable = true)\n",
      " |-- TARGET_5Yrs: double (nullable = true)\n",
      "\n"
     ]
    }
   ],
   "source": [
    "df.printSchema()"
   ]
  },
  {
   "cell_type": "code",
   "execution_count": 7,
   "metadata": {
    "collapsed": false
   },
   "outputs": [],
   "source": [
    "# change the type of GP from integer to double\n",
    "from pyspark.sql.types import DoubleType\n",
    "df = df.withColumn(\"GP\", df[\"GP\"].cast(DoubleType()))"
   ]
  },
  {
   "cell_type": "code",
   "execution_count": 8,
   "metadata": {
    "collapsed": true
   },
   "outputs": [],
   "source": [
    "#define the columns in the players data used for the decision tree classifier\n",
    "featureColumns = ['GP','MIN','PTS','FGM','FGA','FG%','OREB','DREB','REB','AST','STL','BLK','TOV']"
   ]
  },
  {
   "cell_type": "code",
   "execution_count": 9,
   "metadata": {
    "collapsed": false
   },
   "outputs": [],
   "source": [
    "#drop missing data\n",
    "df=df.na.drop()"
   ]
  },
  {
   "cell_type": "code",
   "execution_count": 10,
   "metadata": {
    "collapsed": false
   },
   "outputs": [
    {
     "data": {
      "text/html": [
       "<div>\n",
       "<table border=\"1\" class=\"dataframe\">\n",
       "  <thead>\n",
       "    <tr style=\"text-align: right;\">\n",
       "      <th></th>\n",
       "      <th>0</th>\n",
       "      <th>1</th>\n",
       "      <th>2</th>\n",
       "      <th>3</th>\n",
       "      <th>4</th>\n",
       "    </tr>\n",
       "  </thead>\n",
       "  <tbody>\n",
       "    <tr>\n",
       "      <th>summary</th>\n",
       "      <td>count</td>\n",
       "      <td>mean</td>\n",
       "      <td>stddev</td>\n",
       "      <td>min</td>\n",
       "      <td>max</td>\n",
       "    </tr>\n",
       "    <tr>\n",
       "      <th>GP</th>\n",
       "      <td>1340</td>\n",
       "      <td>60.41417910447761</td>\n",
       "      <td>17.43399224457866</td>\n",
       "      <td>11.0</td>\n",
       "      <td>82.0</td>\n",
       "    </tr>\n",
       "    <tr>\n",
       "      <th>MIN</th>\n",
       "      <td>1340</td>\n",
       "      <td>17.624626865671644</td>\n",
       "      <td>8.307963702156513</td>\n",
       "      <td>3.1</td>\n",
       "      <td>40.9</td>\n",
       "    </tr>\n",
       "    <tr>\n",
       "      <th>PTS</th>\n",
       "      <td>1340</td>\n",
       "      <td>6.801492537313432</td>\n",
       "      <td>4.357544941826061</td>\n",
       "      <td>0.7</td>\n",
       "      <td>28.2</td>\n",
       "    </tr>\n",
       "    <tr>\n",
       "      <th>FGM</th>\n",
       "      <td>1340</td>\n",
       "      <td>2.6291044776119397</td>\n",
       "      <td>1.6835550700573203</td>\n",
       "      <td>0.3</td>\n",
       "      <td>10.2</td>\n",
       "    </tr>\n",
       "    <tr>\n",
       "      <th>FGA</th>\n",
       "      <td>1340</td>\n",
       "      <td>5.885298507462688</td>\n",
       "      <td>3.593488466403574</td>\n",
       "      <td>0.8</td>\n",
       "      <td>19.8</td>\n",
       "    </tr>\n",
       "    <tr>\n",
       "      <th>FG%</th>\n",
       "      <td>1340</td>\n",
       "      <td>44.16940298507466</td>\n",
       "      <td>6.1376788738469825</td>\n",
       "      <td>23.8</td>\n",
       "      <td>73.7</td>\n",
       "    </tr>\n",
       "    <tr>\n",
       "      <th>OREB</th>\n",
       "      <td>1340</td>\n",
       "      <td>1.0094029850746271</td>\n",
       "      <td>0.7771193635112831</td>\n",
       "      <td>0.0</td>\n",
       "      <td>5.3</td>\n",
       "    </tr>\n",
       "    <tr>\n",
       "      <th>DREB</th>\n",
       "      <td>1340</td>\n",
       "      <td>2.025746268656715</td>\n",
       "      <td>1.360007510448923</td>\n",
       "      <td>0.2</td>\n",
       "      <td>9.6</td>\n",
       "    </tr>\n",
       "    <tr>\n",
       "      <th>REB</th>\n",
       "      <td>1340</td>\n",
       "      <td>3.0344776119403005</td>\n",
       "      <td>2.057774041584701</td>\n",
       "      <td>0.3</td>\n",
       "      <td>13.9</td>\n",
       "    </tr>\n",
       "    <tr>\n",
       "      <th>AST</th>\n",
       "      <td>1340</td>\n",
       "      <td>1.5505223880597008</td>\n",
       "      <td>1.4711691901022699</td>\n",
       "      <td>0.0</td>\n",
       "      <td>10.6</td>\n",
       "    </tr>\n",
       "    <tr>\n",
       "      <th>STL</th>\n",
       "      <td>1340</td>\n",
       "      <td>0.6185074626865673</td>\n",
       "      <td>0.4097586813504092</td>\n",
       "      <td>0.0</td>\n",
       "      <td>2.5</td>\n",
       "    </tr>\n",
       "    <tr>\n",
       "      <th>BLK</th>\n",
       "      <td>1340</td>\n",
       "      <td>0.3685820895522378</td>\n",
       "      <td>0.42904909531579116</td>\n",
       "      <td>0.0</td>\n",
       "      <td>3.9</td>\n",
       "    </tr>\n",
       "    <tr>\n",
       "      <th>TOV</th>\n",
       "      <td>1340</td>\n",
       "      <td>1.1935820895522382</td>\n",
       "      <td>0.7225405379316477</td>\n",
       "      <td>0.1</td>\n",
       "      <td>4.4</td>\n",
       "    </tr>\n",
       "    <tr>\n",
       "      <th>TARGET_5Yrs</th>\n",
       "      <td>1340</td>\n",
       "      <td>0.6201492537313433</td>\n",
       "      <td>0.48553072226412747</td>\n",
       "      <td>0.0</td>\n",
       "      <td>1.0</td>\n",
       "    </tr>\n",
       "  </tbody>\n",
       "</table>\n",
       "</div>"
      ],
      "text/plain": [
       "                 0                   1                    2     3     4\n",
       "summary      count                mean               stddev   min   max\n",
       "GP            1340   60.41417910447761    17.43399224457866  11.0  82.0\n",
       "MIN           1340  17.624626865671644    8.307963702156513   3.1  40.9\n",
       "PTS           1340   6.801492537313432    4.357544941826061   0.7  28.2\n",
       "FGM           1340  2.6291044776119397   1.6835550700573203   0.3  10.2\n",
       "FGA           1340   5.885298507462688    3.593488466403574   0.8  19.8\n",
       "FG%           1340   44.16940298507466   6.1376788738469825  23.8  73.7\n",
       "OREB          1340  1.0094029850746271   0.7771193635112831   0.0   5.3\n",
       "DREB          1340   2.025746268656715    1.360007510448923   0.2   9.6\n",
       "REB           1340  3.0344776119403005    2.057774041584701   0.3  13.9\n",
       "AST           1340  1.5505223880597008   1.4711691901022699   0.0  10.6\n",
       "STL           1340  0.6185074626865673   0.4097586813504092   0.0   2.5\n",
       "BLK           1340  0.3685820895522378  0.42904909531579116   0.0   3.9\n",
       "TOV           1340  1.1935820895522382   0.7225405379316477   0.1   4.4\n",
       "TARGET_5Yrs   1340  0.6201492537313433  0.48553072226412747   0.0   1.0"
      ]
     },
     "execution_count": 10,
     "metadata": {},
     "output_type": "execute_result"
    }
   ],
   "source": [
    "# see description of data \n",
    "df.describe().toPandas().transpose()"
   ]
  },
  {
   "cell_type": "code",
   "execution_count": 11,
   "metadata": {
    "collapsed": false
   },
   "outputs": [
    {
     "data": {
      "text/plain": [
       "(1340, 15)"
      ]
     },
     "execution_count": 11,
     "metadata": {},
     "output_type": "execute_result"
    }
   ],
   "source": [
    "# count rows and columns \n",
    "# 13 columns are going to be used to classify the outcome, \n",
    "# we won't use Name and the last column is the value we want to predict\n",
    "df.count(),len(df.columns)"
   ]
  },
  {
   "cell_type": "code",
   "execution_count": 12,
   "metadata": {
    "collapsed": false
   },
   "outputs": [
    {
     "data": {
      "text/html": [
       "<div>\n",
       "<table border=\"1\" class=\"dataframe\">\n",
       "  <thead>\n",
       "    <tr style=\"text-align: right;\">\n",
       "      <th></th>\n",
       "      <th>GP</th>\n",
       "      <th>MIN</th>\n",
       "      <th>PTS</th>\n",
       "      <th>FGM</th>\n",
       "      <th>FGA</th>\n",
       "      <th>FG%</th>\n",
       "      <th>OREB</th>\n",
       "      <th>DREB</th>\n",
       "      <th>REB</th>\n",
       "      <th>AST</th>\n",
       "      <th>STL</th>\n",
       "      <th>BLK</th>\n",
       "      <th>TOV</th>\n",
       "      <th>TARGET_5Yrs</th>\n",
       "    </tr>\n",
       "  </thead>\n",
       "  <tbody>\n",
       "    <tr>\n",
       "      <th>GP</th>\n",
       "      <td>1.000000</td>\n",
       "      <td>0.590240</td>\n",
       "      <td>0.538471</td>\n",
       "      <td>0.542724</td>\n",
       "      <td>0.516625</td>\n",
       "      <td>0.296289</td>\n",
       "      <td>0.401136</td>\n",
       "      <td>0.466840</td>\n",
       "      <td>0.460406</td>\n",
       "      <td>0.372749</td>\n",
       "      <td>0.451137</td>\n",
       "      <td>0.276498</td>\n",
       "      <td>0.518167</td>\n",
       "      <td>0.396833</td>\n",
       "    </tr>\n",
       "    <tr>\n",
       "      <th>MIN</th>\n",
       "      <td>0.590240</td>\n",
       "      <td>1.000000</td>\n",
       "      <td>0.911822</td>\n",
       "      <td>0.903060</td>\n",
       "      <td>0.910247</td>\n",
       "      <td>0.203901</td>\n",
       "      <td>0.573062</td>\n",
       "      <td>0.745513</td>\n",
       "      <td>0.709707</td>\n",
       "      <td>0.629015</td>\n",
       "      <td>0.757034</td>\n",
       "      <td>0.399088</td>\n",
       "      <td>0.826500</td>\n",
       "      <td>0.317805</td>\n",
       "    </tr>\n",
       "    <tr>\n",
       "      <th>PTS</th>\n",
       "      <td>0.538471</td>\n",
       "      <td>0.911822</td>\n",
       "      <td>1.000000</td>\n",
       "      <td>0.990834</td>\n",
       "      <td>0.979733</td>\n",
       "      <td>0.255333</td>\n",
       "      <td>0.575106</td>\n",
       "      <td>0.693934</td>\n",
       "      <td>0.676849</td>\n",
       "      <td>0.552338</td>\n",
       "      <td>0.675341</td>\n",
       "      <td>0.387043</td>\n",
       "      <td>0.850366</td>\n",
       "      <td>0.315981</td>\n",
       "    </tr>\n",
       "    <tr>\n",
       "      <th>FGM</th>\n",
       "      <td>0.542724</td>\n",
       "      <td>0.903060</td>\n",
       "      <td>0.990834</td>\n",
       "      <td>1.000000</td>\n",
       "      <td>0.980050</td>\n",
       "      <td>0.291693</td>\n",
       "      <td>0.596687</td>\n",
       "      <td>0.703278</td>\n",
       "      <td>0.691186</td>\n",
       "      <td>0.532534</td>\n",
       "      <td>0.662640</td>\n",
       "      <td>0.398125</td>\n",
       "      <td>0.834352</td>\n",
       "      <td>0.317594</td>\n",
       "    </tr>\n",
       "    <tr>\n",
       "      <th>FGA</th>\n",
       "      <td>0.516625</td>\n",
       "      <td>0.910247</td>\n",
       "      <td>0.979733</td>\n",
       "      <td>0.980050</td>\n",
       "      <td>1.000000</td>\n",
       "      <td>0.129798</td>\n",
       "      <td>0.504212</td>\n",
       "      <td>0.640123</td>\n",
       "      <td>0.614328</td>\n",
       "      <td>0.589818</td>\n",
       "      <td>0.690168</td>\n",
       "      <td>0.322184</td>\n",
       "      <td>0.845989</td>\n",
       "      <td>0.292660</td>\n",
       "    </tr>\n",
       "    <tr>\n",
       "      <th>FG%</th>\n",
       "      <td>0.296289</td>\n",
       "      <td>0.203901</td>\n",
       "      <td>0.255333</td>\n",
       "      <td>0.291693</td>\n",
       "      <td>0.129798</td>\n",
       "      <td>1.000000</td>\n",
       "      <td>0.511367</td>\n",
       "      <td>0.410555</td>\n",
       "      <td>0.465423</td>\n",
       "      <td>-0.108797</td>\n",
       "      <td>0.056658</td>\n",
       "      <td>0.391626</td>\n",
       "      <td>0.121806</td>\n",
       "      <td>0.227134</td>\n",
       "    </tr>\n",
       "    <tr>\n",
       "      <th>OREB</th>\n",
       "      <td>0.401136</td>\n",
       "      <td>0.573062</td>\n",
       "      <td>0.575106</td>\n",
       "      <td>0.596687</td>\n",
       "      <td>0.504212</td>\n",
       "      <td>0.511367</td>\n",
       "      <td>1.000000</td>\n",
       "      <td>0.838580</td>\n",
       "      <td>0.932694</td>\n",
       "      <td>-0.012109</td>\n",
       "      <td>0.286545</td>\n",
       "      <td>0.648346</td>\n",
       "      <td>0.421695</td>\n",
       "      <td>0.293307</td>\n",
       "    </tr>\n",
       "    <tr>\n",
       "      <th>DREB</th>\n",
       "      <td>0.466840</td>\n",
       "      <td>0.745513</td>\n",
       "      <td>0.693934</td>\n",
       "      <td>0.703278</td>\n",
       "      <td>0.640123</td>\n",
       "      <td>0.410555</td>\n",
       "      <td>0.838580</td>\n",
       "      <td>1.000000</td>\n",
       "      <td>0.978177</td>\n",
       "      <td>0.186679</td>\n",
       "      <td>0.411894</td>\n",
       "      <td>0.688135</td>\n",
       "      <td>0.570187</td>\n",
       "      <td>0.284677</td>\n",
       "    </tr>\n",
       "    <tr>\n",
       "      <th>REB</th>\n",
       "      <td>0.460406</td>\n",
       "      <td>0.709707</td>\n",
       "      <td>0.676849</td>\n",
       "      <td>0.691186</td>\n",
       "      <td>0.614328</td>\n",
       "      <td>0.465423</td>\n",
       "      <td>0.932694</td>\n",
       "      <td>0.978177</td>\n",
       "      <td>1.000000</td>\n",
       "      <td>0.119081</td>\n",
       "      <td>0.381154</td>\n",
       "      <td>0.699672</td>\n",
       "      <td>0.536716</td>\n",
       "      <td>0.299406</td>\n",
       "    </tr>\n",
       "    <tr>\n",
       "      <th>AST</th>\n",
       "      <td>0.372749</td>\n",
       "      <td>0.629015</td>\n",
       "      <td>0.552338</td>\n",
       "      <td>0.532534</td>\n",
       "      <td>0.589818</td>\n",
       "      <td>-0.108797</td>\n",
       "      <td>-0.012109</td>\n",
       "      <td>0.186679</td>\n",
       "      <td>0.119081</td>\n",
       "      <td>1.000000</td>\n",
       "      <td>0.751289</td>\n",
       "      <td>-0.086470</td>\n",
       "      <td>0.747286</td>\n",
       "      <td>0.175353</td>\n",
       "    </tr>\n",
       "    <tr>\n",
       "      <th>STL</th>\n",
       "      <td>0.451137</td>\n",
       "      <td>0.757034</td>\n",
       "      <td>0.675341</td>\n",
       "      <td>0.662640</td>\n",
       "      <td>0.690168</td>\n",
       "      <td>0.056658</td>\n",
       "      <td>0.286545</td>\n",
       "      <td>0.411894</td>\n",
       "      <td>0.381154</td>\n",
       "      <td>0.751289</td>\n",
       "      <td>1.000000</td>\n",
       "      <td>0.133808</td>\n",
       "      <td>0.741988</td>\n",
       "      <td>0.229811</td>\n",
       "    </tr>\n",
       "    <tr>\n",
       "      <th>BLK</th>\n",
       "      <td>0.276498</td>\n",
       "      <td>0.399088</td>\n",
       "      <td>0.387043</td>\n",
       "      <td>0.398125</td>\n",
       "      <td>0.322184</td>\n",
       "      <td>0.391626</td>\n",
       "      <td>0.648346</td>\n",
       "      <td>0.688135</td>\n",
       "      <td>0.699672</td>\n",
       "      <td>-0.086470</td>\n",
       "      <td>0.133808</td>\n",
       "      <td>1.000000</td>\n",
       "      <td>0.282150</td>\n",
       "      <td>0.210114</td>\n",
       "    </tr>\n",
       "    <tr>\n",
       "      <th>TOV</th>\n",
       "      <td>0.518167</td>\n",
       "      <td>0.826500</td>\n",
       "      <td>0.850366</td>\n",
       "      <td>0.834352</td>\n",
       "      <td>0.845989</td>\n",
       "      <td>0.121806</td>\n",
       "      <td>0.421695</td>\n",
       "      <td>0.570187</td>\n",
       "      <td>0.536716</td>\n",
       "      <td>0.747286</td>\n",
       "      <td>0.741988</td>\n",
       "      <td>0.282150</td>\n",
       "      <td>1.000000</td>\n",
       "      <td>0.272348</td>\n",
       "    </tr>\n",
       "    <tr>\n",
       "      <th>TARGET_5Yrs</th>\n",
       "      <td>0.396833</td>\n",
       "      <td>0.317805</td>\n",
       "      <td>0.315981</td>\n",
       "      <td>0.317594</td>\n",
       "      <td>0.292660</td>\n",
       "      <td>0.227134</td>\n",
       "      <td>0.293307</td>\n",
       "      <td>0.284677</td>\n",
       "      <td>0.299406</td>\n",
       "      <td>0.175353</td>\n",
       "      <td>0.229811</td>\n",
       "      <td>0.210114</td>\n",
       "      <td>0.272348</td>\n",
       "      <td>1.000000</td>\n",
       "    </tr>\n",
       "  </tbody>\n",
       "</table>\n",
       "</div>"
      ],
      "text/plain": [
       "                   GP       MIN       PTS       FGM       FGA       FG%  \\\n",
       "GP           1.000000  0.590240  0.538471  0.542724  0.516625  0.296289   \n",
       "MIN          0.590240  1.000000  0.911822  0.903060  0.910247  0.203901   \n",
       "PTS          0.538471  0.911822  1.000000  0.990834  0.979733  0.255333   \n",
       "FGM          0.542724  0.903060  0.990834  1.000000  0.980050  0.291693   \n",
       "FGA          0.516625  0.910247  0.979733  0.980050  1.000000  0.129798   \n",
       "FG%          0.296289  0.203901  0.255333  0.291693  0.129798  1.000000   \n",
       "OREB         0.401136  0.573062  0.575106  0.596687  0.504212  0.511367   \n",
       "DREB         0.466840  0.745513  0.693934  0.703278  0.640123  0.410555   \n",
       "REB          0.460406  0.709707  0.676849  0.691186  0.614328  0.465423   \n",
       "AST          0.372749  0.629015  0.552338  0.532534  0.589818 -0.108797   \n",
       "STL          0.451137  0.757034  0.675341  0.662640  0.690168  0.056658   \n",
       "BLK          0.276498  0.399088  0.387043  0.398125  0.322184  0.391626   \n",
       "TOV          0.518167  0.826500  0.850366  0.834352  0.845989  0.121806   \n",
       "TARGET_5Yrs  0.396833  0.317805  0.315981  0.317594  0.292660  0.227134   \n",
       "\n",
       "                 OREB      DREB       REB       AST       STL       BLK  \\\n",
       "GP           0.401136  0.466840  0.460406  0.372749  0.451137  0.276498   \n",
       "MIN          0.573062  0.745513  0.709707  0.629015  0.757034  0.399088   \n",
       "PTS          0.575106  0.693934  0.676849  0.552338  0.675341  0.387043   \n",
       "FGM          0.596687  0.703278  0.691186  0.532534  0.662640  0.398125   \n",
       "FGA          0.504212  0.640123  0.614328  0.589818  0.690168  0.322184   \n",
       "FG%          0.511367  0.410555  0.465423 -0.108797  0.056658  0.391626   \n",
       "OREB         1.000000  0.838580  0.932694 -0.012109  0.286545  0.648346   \n",
       "DREB         0.838580  1.000000  0.978177  0.186679  0.411894  0.688135   \n",
       "REB          0.932694  0.978177  1.000000  0.119081  0.381154  0.699672   \n",
       "AST         -0.012109  0.186679  0.119081  1.000000  0.751289 -0.086470   \n",
       "STL          0.286545  0.411894  0.381154  0.751289  1.000000  0.133808   \n",
       "BLK          0.648346  0.688135  0.699672 -0.086470  0.133808  1.000000   \n",
       "TOV          0.421695  0.570187  0.536716  0.747286  0.741988  0.282150   \n",
       "TARGET_5Yrs  0.293307  0.284677  0.299406  0.175353  0.229811  0.210114   \n",
       "\n",
       "                  TOV  TARGET_5Yrs  \n",
       "GP           0.518167     0.396833  \n",
       "MIN          0.826500     0.317805  \n",
       "PTS          0.850366     0.315981  \n",
       "FGM          0.834352     0.317594  \n",
       "FGA          0.845989     0.292660  \n",
       "FG%          0.121806     0.227134  \n",
       "OREB         0.421695     0.293307  \n",
       "DREB         0.570187     0.284677  \n",
       "REB          0.536716     0.299406  \n",
       "AST          0.747286     0.175353  \n",
       "STL          0.741988     0.229811  \n",
       "BLK          0.282150     0.210114  \n",
       "TOV          1.000000     0.272348  \n",
       "TARGET_5Yrs  0.272348     1.000000  "
      ]
     },
     "execution_count": 12,
     "metadata": {},
     "output_type": "execute_result"
    }
   ],
   "source": [
    "# analyse which variable are most likely to have the most influence on the outcome\n",
    "df.toPandas().corr()\n",
    "# the highest correlation with the outcome have values of GP,MIN,PTS,FGM - this is logical"
   ]
  },
  {
   "cell_type": "code",
   "execution_count": 13,
   "metadata": {
    "collapsed": true
   },
   "outputs": [],
   "source": [
    "binarizer = Binarizer(threshold=0.5, inputCol=\"TARGET_5Yrs\", outputCol=\"label\")\n",
    "binarizedDF = binarizer.transform(df)"
   ]
  },
  {
   "cell_type": "code",
   "execution_count": 14,
   "metadata": {
    "collapsed": true
   },
   "outputs": [],
   "source": [
    "#aggregate the features used to make predictions into a single column\n",
    "assembler = VectorAssembler(inputCols=featureColumns, outputCol=\"features\")\n",
    "assembled = assembler.transform(binarizedDF)"
   ]
  },
  {
   "cell_type": "code",
   "execution_count": 15,
   "metadata": {
    "collapsed": false
   },
   "outputs": [
    {
     "name": "stdout",
     "output_type": "stream",
     "text": [
      "+--------------------+-----+\n",
      "|            features|label|\n",
      "+--------------------+-----+\n",
      "|[36.0,27.4,7.4,2....|  0.0|\n",
      "|[35.0,26.9,7.2,2....|  0.0|\n",
      "|[74.0,15.3,5.2,2....|  0.0|\n",
      "+--------------------+-----+\n",
      "only showing top 3 rows\n",
      "\n"
     ]
    }
   ],
   "source": [
    "# lets check that previous step created the vector as last column and \n",
    "# create new DataFrame that we are going to use in DecisionTreeClassifier\n",
    "WorkingDF=assembled.select('features','label')\n",
    "WorkingDF.show(3)"
   ]
  },
  {
   "cell_type": "code",
   "execution_count": 16,
   "metadata": {
    "collapsed": true
   },
   "outputs": [],
   "source": [
    "# split our data into training data and test data\n",
    "(trainingData, testData) = WorkingDF.randomSplit([0.8,0.2],seed=13234)"
   ]
  },
  {
   "cell_type": "code",
   "execution_count": 17,
   "metadata": {
    "collapsed": false
   },
   "outputs": [
    {
     "data": {
      "text/plain": [
       "(1072, 268)"
      ]
     },
     "execution_count": 17,
     "metadata": {},
     "output_type": "execute_result"
    }
   ],
   "source": [
    "# count the number of rows in training data and test data\n",
    "trainingData.count(),testData.count()"
   ]
  },
  {
   "cell_type": "code",
   "execution_count": 18,
   "metadata": {
    "collapsed": true
   },
   "outputs": [],
   "source": [
    "# Creating initial Model\n",
    "dt=DecisionTreeClassifier(labelCol=\"label\",featuresCol=\"features\",maxDepth=3)"
   ]
  },
  {
   "cell_type": "code",
   "execution_count": 20,
   "metadata": {
    "collapsed": false
   },
   "outputs": [],
   "source": [
    "# creating grid for parameters for cross validation\n",
    "dtparamGrid=(ParamGridBuilder()\n",
    "             .addGrid(dt.maxDepth,[3,5,7,10,15,20,25])\n",
    "             .addGrid(dt.minInstancesPerNode,[10,15,20,25,30,50,100])\n",
    "             .build())"
   ]
  },
  {
   "cell_type": "code",
   "execution_count": 21,
   "metadata": {
    "collapsed": false
   },
   "outputs": [],
   "source": [
    "# evaluating Model\n",
    "dtevaluator=BinaryClassificationEvaluator(rawPredictionCol=\"rawPrediction\")"
   ]
  },
  {
   "cell_type": "code",
   "execution_count": 22,
   "metadata": {
    "collapsed": true
   },
   "outputs": [],
   "source": [
    "# create CrossValidator\n",
    "dtcross=CrossValidator(estimator=dt,estimatorParamMaps=dtparamGrid, evaluator=dtevaluator,numFolds=7)"
   ]
  },
  {
   "cell_type": "code",
   "execution_count": 23,
   "metadata": {
    "collapsed": true
   },
   "outputs": [],
   "source": [
    "# run cross valudations\n",
    "dtcvModel=dtcross.fit(trainingData)"
   ]
  },
  {
   "cell_type": "code",
   "execution_count": 24,
   "metadata": {
    "collapsed": false
   },
   "outputs": [
    {
     "name": "stdout",
     "output_type": "stream",
     "text": [
      "CrossValidatorModel_45a384b2db4de267e077\n"
     ]
    }
   ],
   "source": [
    "print(dtcvModel)"
   ]
  },
  {
   "cell_type": "code",
   "execution_count": 25,
   "metadata": {
    "collapsed": false
   },
   "outputs": [],
   "source": [
    "# using test data to measure the accuracy of the model\n",
    "dtPredictions=dtcvModel.transform(testData)"
   ]
  },
  {
   "cell_type": "code",
   "execution_count": 26,
   "metadata": {
    "collapsed": false
   },
   "outputs": [
    {
     "name": "stdout",
     "output_type": "stream",
     "text": [
      "Accuracy 0.6485458872699832\n",
      "AUC: 0.6451688555347092\n"
     ]
    }
   ],
   "source": [
    "# AUC - characteristic of the accuracy of distinguishing between classes\n",
    "print('Accuracy',dtevaluator.evaluate(dtPredictions))\n",
    "print('AUC:',BinaryClassificationMetrics(dtPredictions['label','prediction'].rdd).areaUnderROC)\n"
   ]
  },
  {
   "cell_type": "code",
   "execution_count": 27,
   "metadata": {
    "collapsed": false
   },
   "outputs": [
    {
     "name": "stdout",
     "output_type": "stream",
     "text": [
      "+----------+-----+\n",
      "|prediction|label|\n",
      "+----------+-----+\n",
      "|       0.0|  0.0|\n",
      "|       0.0|  0.0|\n",
      "|       0.0|  0.0|\n",
      "|       0.0|  0.0|\n",
      "|       0.0|  0.0|\n",
      "|       0.0|  0.0|\n",
      "|       0.0|  0.0|\n",
      "|       0.0|  0.0|\n",
      "|       0.0|  0.0|\n",
      "|       0.0|  0.0|\n",
      "+----------+-----+\n",
      "only showing top 10 rows\n",
      "\n"
     ]
    }
   ],
   "source": [
    "# lets see the first 10 rows  \n",
    "# we can see the prediction matches the input 'label'\n",
    "predict=dtPredictions.select(\"prediction\",\"label\")\n",
    "predict.show(10)"
   ]
  },
  {
   "cell_type": "code",
   "execution_count": 28,
   "metadata": {
    "collapsed": false
   },
   "outputs": [],
   "source": [
    "#compute accuracy of predictions\n",
    "#the first two arguments specify the names of the label and prediction columns\n",
    "#the third argument specifies that we want the overall precision\n",
    "evaluator = MulticlassClassificationEvaluator(labelCol=\"label\",\n",
    "predictionCol=\"prediction\", metricName=\"precision\")"
   ]
  },
  {
   "cell_type": "code",
   "execution_count": 29,
   "metadata": {
    "collapsed": false
   },
   "outputs": [],
   "source": [
    "#The MulticlassMetrics class can be used to generate a confusion matrix of our classifier model\n",
    "#because MulticlassMetrics works with RDDs of numbers and not DataFrames, we need to convert our predictions DataFrame into an RDD\n",
    "metrics = MulticlassMetrics(predict.rdd.map(tuple))"
   ]
  },
  {
   "cell_type": "code",
   "execution_count": 30,
   "metadata": {
    "collapsed": false
   },
   "outputs": [
    {
     "data": {
      "text/plain": [
       "array([[  60.,   44.],\n",
       "       [  47.,  117.]])"
      ]
     },
     "execution_count": 30,
     "metadata": {},
     "output_type": "execute_result"
    }
   ],
   "source": [
    "metrics.confusionMatrix().toArray().transpose()"
   ]
  },
  {
   "cell_type": "code",
   "execution_count": null,
   "metadata": {
    "collapsed": true
   },
   "outputs": [],
   "source": []
  }
 ],
 "metadata": {
  "kernelspec": {
   "display_name": "Python 3",
   "language": "python",
   "name": "python3"
  }
 },
 "nbformat": 4,
 "nbformat_minor": 0
}
