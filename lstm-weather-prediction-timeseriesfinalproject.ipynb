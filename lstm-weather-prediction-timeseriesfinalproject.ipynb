{
 "cells": [
  {
   "cell_type": "code",
   "execution_count": 2,
   "metadata": {
    "_cell_guid": "b1076dfc-b9ad-4769-8c92-a6c4dae69d19",
    "_uuid": "8f2839f25d086af736a60e9eeb907d3b93b6e0e5",
    "execution": {
     "iopub.execute_input": "2023-12-07T00:23:53.676840Z",
     "iopub.status.busy": "2023-12-07T00:23:53.675836Z",
     "iopub.status.idle": "2023-12-07T00:23:54.068272Z",
     "shell.execute_reply": "2023-12-07T00:23:54.067236Z",
     "shell.execute_reply.started": "2023-12-07T00:23:53.676804Z"
    }
   },
   "outputs": [
    {
     "name": "stdout",
     "output_type": "stream",
     "text": [
      "/kaggle/input/jena-climate/jena_climate_2009_2016.csv\n"
     ]
    }
   ],
   "source": [
    "# This Python 3 environment comes with many helpful analytics libraries installed\n",
    "# It is defined by the kaggle/python Docker image: https://github.com/kaggle/docker-python\n",
    "# For example, here's several helpful packages to load\n",
    "\n",
    "import numpy as np # linear algebra\n",
    "import pandas as pd # data processing, CSV file I/O (e.g. pd.read_csv)\n",
    "\n",
    "# Input data files are available in the read-only \"../input/\" directory\n",
    "# For example, running this (by clicking run or pressing Shift+Enter) will list all files under the input directory\n",
    "\n",
    "import os\n",
    "for dirname, _, filenames in os.walk('/kaggle/input'):\n",
    "    for filename in filenames:\n",
    "        print(os.path.join(dirname, filename))\n",
    "\n",
    "# You can write up to 20GB to the current directory (/kaggle/working/) that gets preserved as output when you create a version using \"Save & Run All\" \n",
    "# You can also write temporary files to /kaggle/temp/, but they won't be saved outside of the current session"
   ]
  },
  {
   "cell_type": "code",
   "execution_count": 46,
   "metadata": {
    "execution": {
     "iopub.execute_input": "2023-12-07T01:30:18.290320Z",
     "iopub.status.busy": "2023-12-07T01:30:18.289943Z",
     "iopub.status.idle": "2023-12-07T01:30:18.490694Z",
     "shell.execute_reply": "2023-12-07T01:30:18.489482Z",
     "shell.execute_reply.started": "2023-12-07T01:30:18.290295Z"
    }
   },
   "outputs": [],
   "source": [
    "import matplotlib.pyplot as plt\n",
    "import tensorflow as tf\n",
    "from tensorflow.keras.models import Sequential\n",
    "from tensorflow.keras.layers import Dense\n",
    "from tensorflow.keras.layers import LSTM\n",
    "from sklearn.preprocessing import MinMaxScaler\n",
    "from sklearn.metrics import mean_squared_error\n",
    "import seaborn as sns"
   ]
  },
  {
   "cell_type": "code",
   "execution_count": 24,
   "metadata": {
    "execution": {
     "iopub.execute_input": "2023-12-07T00:28:43.656198Z",
     "iopub.status.busy": "2023-12-07T00:28:43.655777Z",
     "iopub.status.idle": "2023-12-07T00:28:44.239775Z",
     "shell.execute_reply": "2023-12-07T00:28:44.238912Z",
     "shell.execute_reply.started": "2023-12-07T00:28:43.656146Z"
    }
   },
   "outputs": [
    {
     "data": {
      "text/html": [
       "<div>\n",
       "<style scoped>\n",
       "    .dataframe tbody tr th:only-of-type {\n",
       "        vertical-align: middle;\n",
       "    }\n",
       "\n",
       "    .dataframe tbody tr th {\n",
       "        vertical-align: top;\n",
       "    }\n",
       "\n",
       "    .dataframe thead th {\n",
       "        text-align: right;\n",
       "    }\n",
       "</style>\n",
       "<table border=\"1\" class=\"dataframe\">\n",
       "  <thead>\n",
       "    <tr style=\"text-align: right;\">\n",
       "      <th></th>\n",
       "      <th>Date Time</th>\n",
       "      <th>p (mbar)</th>\n",
       "      <th>T (degC)</th>\n",
       "      <th>Tpot (K)</th>\n",
       "      <th>Tdew (degC)</th>\n",
       "      <th>rh (%)</th>\n",
       "      <th>VPmax (mbar)</th>\n",
       "      <th>VPact (mbar)</th>\n",
       "      <th>VPdef (mbar)</th>\n",
       "      <th>sh (g/kg)</th>\n",
       "      <th>H2OC (mmol/mol)</th>\n",
       "      <th>rho (g/m**3)</th>\n",
       "      <th>wv (m/s)</th>\n",
       "      <th>max. wv (m/s)</th>\n",
       "      <th>wd (deg)</th>\n",
       "    </tr>\n",
       "  </thead>\n",
       "  <tbody>\n",
       "    <tr>\n",
       "      <th>0</th>\n",
       "      <td>01.01.2009 00:10:00</td>\n",
       "      <td>996.52</td>\n",
       "      <td>-8.02</td>\n",
       "      <td>265.40</td>\n",
       "      <td>-8.90</td>\n",
       "      <td>93.3</td>\n",
       "      <td>3.33</td>\n",
       "      <td>3.11</td>\n",
       "      <td>0.22</td>\n",
       "      <td>1.94</td>\n",
       "      <td>3.12</td>\n",
       "      <td>1307.75</td>\n",
       "      <td>1.03</td>\n",
       "      <td>1.75</td>\n",
       "      <td>152.3</td>\n",
       "    </tr>\n",
       "    <tr>\n",
       "      <th>1</th>\n",
       "      <td>01.01.2009 00:20:00</td>\n",
       "      <td>996.57</td>\n",
       "      <td>-8.41</td>\n",
       "      <td>265.01</td>\n",
       "      <td>-9.28</td>\n",
       "      <td>93.4</td>\n",
       "      <td>3.23</td>\n",
       "      <td>3.02</td>\n",
       "      <td>0.21</td>\n",
       "      <td>1.89</td>\n",
       "      <td>3.03</td>\n",
       "      <td>1309.80</td>\n",
       "      <td>0.72</td>\n",
       "      <td>1.50</td>\n",
       "      <td>136.1</td>\n",
       "    </tr>\n",
       "    <tr>\n",
       "      <th>2</th>\n",
       "      <td>01.01.2009 00:30:00</td>\n",
       "      <td>996.53</td>\n",
       "      <td>-8.51</td>\n",
       "      <td>264.91</td>\n",
       "      <td>-9.31</td>\n",
       "      <td>93.9</td>\n",
       "      <td>3.21</td>\n",
       "      <td>3.01</td>\n",
       "      <td>0.20</td>\n",
       "      <td>1.88</td>\n",
       "      <td>3.02</td>\n",
       "      <td>1310.24</td>\n",
       "      <td>0.19</td>\n",
       "      <td>0.63</td>\n",
       "      <td>171.6</td>\n",
       "    </tr>\n",
       "    <tr>\n",
       "      <th>3</th>\n",
       "      <td>01.01.2009 00:40:00</td>\n",
       "      <td>996.51</td>\n",
       "      <td>-8.31</td>\n",
       "      <td>265.12</td>\n",
       "      <td>-9.07</td>\n",
       "      <td>94.2</td>\n",
       "      <td>3.26</td>\n",
       "      <td>3.07</td>\n",
       "      <td>0.19</td>\n",
       "      <td>1.92</td>\n",
       "      <td>3.08</td>\n",
       "      <td>1309.19</td>\n",
       "      <td>0.34</td>\n",
       "      <td>0.50</td>\n",
       "      <td>198.0</td>\n",
       "    </tr>\n",
       "    <tr>\n",
       "      <th>4</th>\n",
       "      <td>01.01.2009 00:50:00</td>\n",
       "      <td>996.51</td>\n",
       "      <td>-8.27</td>\n",
       "      <td>265.15</td>\n",
       "      <td>-9.04</td>\n",
       "      <td>94.1</td>\n",
       "      <td>3.27</td>\n",
       "      <td>3.08</td>\n",
       "      <td>0.19</td>\n",
       "      <td>1.92</td>\n",
       "      <td>3.09</td>\n",
       "      <td>1309.00</td>\n",
       "      <td>0.32</td>\n",
       "      <td>0.63</td>\n",
       "      <td>214.3</td>\n",
       "    </tr>\n",
       "  </tbody>\n",
       "</table>\n",
       "</div>"
      ],
      "text/plain": [
       "             Date Time  p (mbar)  T (degC)  Tpot (K)  Tdew (degC)  rh (%)  \\\n",
       "0  01.01.2009 00:10:00    996.52     -8.02    265.40        -8.90    93.3   \n",
       "1  01.01.2009 00:20:00    996.57     -8.41    265.01        -9.28    93.4   \n",
       "2  01.01.2009 00:30:00    996.53     -8.51    264.91        -9.31    93.9   \n",
       "3  01.01.2009 00:40:00    996.51     -8.31    265.12        -9.07    94.2   \n",
       "4  01.01.2009 00:50:00    996.51     -8.27    265.15        -9.04    94.1   \n",
       "\n",
       "   VPmax (mbar)  VPact (mbar)  VPdef (mbar)  sh (g/kg)  H2OC (mmol/mol)  \\\n",
       "0          3.33          3.11          0.22       1.94             3.12   \n",
       "1          3.23          3.02          0.21       1.89             3.03   \n",
       "2          3.21          3.01          0.20       1.88             3.02   \n",
       "3          3.26          3.07          0.19       1.92             3.08   \n",
       "4          3.27          3.08          0.19       1.92             3.09   \n",
       "\n",
       "   rho (g/m**3)  wv (m/s)  max. wv (m/s)  wd (deg)  \n",
       "0       1307.75      1.03           1.75     152.3  \n",
       "1       1309.80      0.72           1.50     136.1  \n",
       "2       1310.24      0.19           0.63     171.6  \n",
       "3       1309.19      0.34           0.50     198.0  \n",
       "4       1309.00      0.32           0.63     214.3  "
      ]
     },
     "execution_count": 24,
     "metadata": {},
     "output_type": "execute_result"
    }
   ],
   "source": [
    "data = pd.read_csv(\"/kaggle/input/jena-climate/jena_climate_2009_2016.csv\")\n",
    "data.head(5)"
   ]
  },
  {
   "cell_type": "code",
   "execution_count": 25,
   "metadata": {
    "execution": {
     "iopub.execute_input": "2023-12-07T00:28:47.495459Z",
     "iopub.status.busy": "2023-12-07T00:28:47.493948Z",
     "iopub.status.idle": "2023-12-07T00:28:47.531916Z",
     "shell.execute_reply": "2023-12-07T00:28:47.531216Z",
     "shell.execute_reply.started": "2023-12-07T00:28:47.495410Z"
    }
   },
   "outputs": [
    {
     "data": {
      "text/html": [
       "<div>\n",
       "<style scoped>\n",
       "    .dataframe tbody tr th:only-of-type {\n",
       "        vertical-align: middle;\n",
       "    }\n",
       "\n",
       "    .dataframe tbody tr th {\n",
       "        vertical-align: top;\n",
       "    }\n",
       "\n",
       "    .dataframe thead th {\n",
       "        text-align: right;\n",
       "    }\n",
       "</style>\n",
       "<table border=\"1\" class=\"dataframe\">\n",
       "  <thead>\n",
       "    <tr style=\"text-align: right;\">\n",
       "      <th></th>\n",
       "      <th>DateTime</th>\n",
       "      <th>pressure</th>\n",
       "      <th>temperature</th>\n",
       "      <th>humidity</th>\n",
       "    </tr>\n",
       "  </thead>\n",
       "  <tbody>\n",
       "    <tr>\n",
       "      <th>0</th>\n",
       "      <td>01.01.2009 00:10:00</td>\n",
       "      <td>996.52</td>\n",
       "      <td>265.40</td>\n",
       "      <td>1.94</td>\n",
       "    </tr>\n",
       "    <tr>\n",
       "      <th>1</th>\n",
       "      <td>01.01.2009 00:20:00</td>\n",
       "      <td>996.57</td>\n",
       "      <td>265.01</td>\n",
       "      <td>1.89</td>\n",
       "    </tr>\n",
       "    <tr>\n",
       "      <th>2</th>\n",
       "      <td>01.01.2009 00:30:00</td>\n",
       "      <td>996.53</td>\n",
       "      <td>264.91</td>\n",
       "      <td>1.88</td>\n",
       "    </tr>\n",
       "  </tbody>\n",
       "</table>\n",
       "</div>"
      ],
      "text/plain": [
       "              DateTime  pressure  temperature  humidity\n",
       "0  01.01.2009 00:10:00    996.52       265.40      1.94\n",
       "1  01.01.2009 00:20:00    996.57       265.01      1.89\n",
       "2  01.01.2009 00:30:00    996.53       264.91      1.88"
      ]
     },
     "execution_count": 25,
     "metadata": {},
     "output_type": "execute_result"
    }
   ],
   "source": [
    "df = data[[\"Date Time\", \"p (mbar)\",\"Tpot (K)\", \"sh (g/kg)\"]].rename(columns={\"Date Time\": \"DateTime\", \"p (mbar)\":\"pressure\", \"Tpot (K)\": \"temperature\", \"sh (g/kg)\":\"humidity\"})\n",
    "df.head(3)"
   ]
  },
  {
   "cell_type": "code",
   "execution_count": 26,
   "metadata": {
    "execution": {
     "iopub.execute_input": "2023-12-07T00:28:50.016189Z",
     "iopub.status.busy": "2023-12-07T00:28:50.015687Z",
     "iopub.status.idle": "2023-12-07T00:28:51.385281Z",
     "shell.execute_reply": "2023-12-07T00:28:51.383863Z",
     "shell.execute_reply.started": "2023-12-07T00:28:50.016132Z"
    }
   },
   "outputs": [
    {
     "data": {
      "text/html": [
       "<div>\n",
       "<style scoped>\n",
       "    .dataframe tbody tr th:only-of-type {\n",
       "        vertical-align: middle;\n",
       "    }\n",
       "\n",
       "    .dataframe tbody tr th {\n",
       "        vertical-align: top;\n",
       "    }\n",
       "\n",
       "    .dataframe thead th {\n",
       "        text-align: right;\n",
       "    }\n",
       "</style>\n",
       "<table border=\"1\" class=\"dataframe\">\n",
       "  <thead>\n",
       "    <tr style=\"text-align: right;\">\n",
       "      <th></th>\n",
       "      <th>DateTime</th>\n",
       "      <th>pressure</th>\n",
       "      <th>temperature</th>\n",
       "      <th>humidity</th>\n",
       "      <th>date</th>\n",
       "    </tr>\n",
       "  </thead>\n",
       "  <tbody>\n",
       "    <tr>\n",
       "      <th>0</th>\n",
       "      <td>2009-01-01 00:10:00</td>\n",
       "      <td>996.52</td>\n",
       "      <td>265.40</td>\n",
       "      <td>1.94</td>\n",
       "      <td>2009-01-01</td>\n",
       "    </tr>\n",
       "    <tr>\n",
       "      <th>1</th>\n",
       "      <td>2009-01-01 00:20:00</td>\n",
       "      <td>996.57</td>\n",
       "      <td>265.01</td>\n",
       "      <td>1.89</td>\n",
       "      <td>2009-01-01</td>\n",
       "    </tr>\n",
       "    <tr>\n",
       "      <th>2</th>\n",
       "      <td>2009-01-01 00:30:00</td>\n",
       "      <td>996.53</td>\n",
       "      <td>264.91</td>\n",
       "      <td>1.88</td>\n",
       "      <td>2009-01-01</td>\n",
       "    </tr>\n",
       "    <tr>\n",
       "      <th>3</th>\n",
       "      <td>2009-01-01 00:40:00</td>\n",
       "      <td>996.51</td>\n",
       "      <td>265.12</td>\n",
       "      <td>1.92</td>\n",
       "      <td>2009-01-01</td>\n",
       "    </tr>\n",
       "    <tr>\n",
       "      <th>4</th>\n",
       "      <td>2009-01-01 00:50:00</td>\n",
       "      <td>996.51</td>\n",
       "      <td>265.15</td>\n",
       "      <td>1.92</td>\n",
       "      <td>2009-01-01</td>\n",
       "    </tr>\n",
       "  </tbody>\n",
       "</table>\n",
       "</div>"
      ],
      "text/plain": [
       "             DateTime  pressure  temperature  humidity        date\n",
       "0 2009-01-01 00:10:00    996.52       265.40      1.94  2009-01-01\n",
       "1 2009-01-01 00:20:00    996.57       265.01      1.89  2009-01-01\n",
       "2 2009-01-01 00:30:00    996.53       264.91      1.88  2009-01-01\n",
       "3 2009-01-01 00:40:00    996.51       265.12      1.92  2009-01-01\n",
       "4 2009-01-01 00:50:00    996.51       265.15      1.92  2009-01-01"
      ]
     },
     "execution_count": 26,
     "metadata": {},
     "output_type": "execute_result"
    }
   ],
   "source": [
    "df[\"DateTime\"] = pd.to_datetime(df.DateTime, format=\"%d.%m.%Y %H:%M:%S\")\n",
    "df[\"date\"] = df[\"DateTime\"].dt.date\n",
    "df.head(5)"
   ]
  },
  {
   "cell_type": "code",
   "execution_count": 27,
   "metadata": {
    "execution": {
     "iopub.execute_input": "2023-12-07T00:28:54.271749Z",
     "iopub.status.busy": "2023-12-07T00:28:54.271269Z",
     "iopub.status.idle": "2023-12-07T00:28:54.339218Z",
     "shell.execute_reply": "2023-12-07T00:28:54.337658Z",
     "shell.execute_reply.started": "2023-12-07T00:28:54.271714Z"
    }
   },
   "outputs": [
    {
     "data": {
      "text/html": [
       "<div>\n",
       "<style scoped>\n",
       "    .dataframe tbody tr th:only-of-type {\n",
       "        vertical-align: middle;\n",
       "    }\n",
       "\n",
       "    .dataframe tbody tr th {\n",
       "        vertical-align: top;\n",
       "    }\n",
       "\n",
       "    .dataframe thead th {\n",
       "        text-align: right;\n",
       "    }\n",
       "</style>\n",
       "<table border=\"1\" class=\"dataframe\">\n",
       "  <thead>\n",
       "    <tr style=\"text-align: right;\">\n",
       "      <th></th>\n",
       "      <th>date</th>\n",
       "      <th>pressure</th>\n",
       "      <th>temperature</th>\n",
       "      <th>humidity</th>\n",
       "    </tr>\n",
       "  </thead>\n",
       "  <tbody>\n",
       "    <tr>\n",
       "      <th>0</th>\n",
       "      <td>2009-01-01</td>\n",
       "      <td>999.145594</td>\n",
       "      <td>266.414545</td>\n",
       "      <td>2.091049</td>\n",
       "    </tr>\n",
       "    <tr>\n",
       "      <th>1</th>\n",
       "      <td>2009-01-02</td>\n",
       "      <td>999.600625</td>\n",
       "      <td>269.463194</td>\n",
       "      <td>2.659792</td>\n",
       "    </tr>\n",
       "    <tr>\n",
       "      <th>2</th>\n",
       "      <td>2009-01-03</td>\n",
       "      <td>998.548611</td>\n",
       "      <td>268.002292</td>\n",
       "      <td>1.937778</td>\n",
       "    </tr>\n",
       "    <tr>\n",
       "      <th>3</th>\n",
       "      <td>2009-01-04</td>\n",
       "      <td>988.510694</td>\n",
       "      <td>272.685347</td>\n",
       "      <td>3.114028</td>\n",
       "    </tr>\n",
       "    <tr>\n",
       "      <th>4</th>\n",
       "      <td>2009-01-05</td>\n",
       "      <td>990.405694</td>\n",
       "      <td>269.039306</td>\n",
       "      <td>2.397014</td>\n",
       "    </tr>\n",
       "  </tbody>\n",
       "</table>\n",
       "</div>"
      ],
      "text/plain": [
       "         date    pressure  temperature  humidity\n",
       "0  2009-01-01  999.145594   266.414545  2.091049\n",
       "1  2009-01-02  999.600625   269.463194  2.659792\n",
       "2  2009-01-03  998.548611   268.002292  1.937778\n",
       "3  2009-01-04  988.510694   272.685347  3.114028\n",
       "4  2009-01-05  990.405694   269.039306  2.397014"
      ]
     },
     "execution_count": 27,
     "metadata": {},
     "output_type": "execute_result"
    }
   ],
   "source": [
    "dailydf = df[[\"date\",\"pressure\", \"temperature\", \"humidity\"]].groupby(by=\"date\").mean().reset_index()\n",
    "dailydf.head(5)"
   ]
  },
  {
   "cell_type": "code",
   "execution_count": 28,
   "metadata": {
    "execution": {
     "iopub.execute_input": "2023-12-07T00:28:57.370551Z",
     "iopub.status.busy": "2023-12-07T00:28:57.370142Z",
     "iopub.status.idle": "2023-12-07T00:28:57.377347Z",
     "shell.execute_reply": "2023-12-07T00:28:57.376262Z",
     "shell.execute_reply.started": "2023-12-07T00:28:57.370528Z"
    }
   },
   "outputs": [],
   "source": [
    "# fix random seed for reproducibility\n",
    "tf.random.set_seed(7)"
   ]
  },
  {
   "cell_type": "code",
   "execution_count": 58,
   "metadata": {
    "execution": {
     "iopub.execute_input": "2023-12-07T01:40:11.825772Z",
     "iopub.status.busy": "2023-12-07T01:40:11.825319Z",
     "iopub.status.idle": "2023-12-07T01:40:11.832555Z",
     "shell.execute_reply": "2023-12-07T01:40:11.831830Z",
     "shell.execute_reply.started": "2023-12-07T01:40:11.825738Z"
    }
   },
   "outputs": [],
   "source": [
    "dataset = dailydf[[\"pressure\", \"temperature\", \"humidity\"]]"
   ]
  },
  {
   "cell_type": "code",
   "execution_count": 59,
   "metadata": {
    "execution": {
     "iopub.execute_input": "2023-12-07T01:40:13.307621Z",
     "iopub.status.busy": "2023-12-07T01:40:13.306034Z",
     "iopub.status.idle": "2023-12-07T01:40:13.318190Z",
     "shell.execute_reply": "2023-12-07T01:40:13.316555Z",
     "shell.execute_reply.started": "2023-12-07T01:40:13.307553Z"
    }
   },
   "outputs": [],
   "source": [
    "# normalize the dataset\n",
    "scaler = MinMaxScaler(feature_range=(0, 1))\n",
    "dataset = scaler.fit_transform(dataset)"
   ]
  },
  {
   "cell_type": "code",
   "execution_count": 60,
   "metadata": {
    "execution": {
     "iopub.execute_input": "2023-12-07T01:40:20.818159Z",
     "iopub.status.busy": "2023-12-07T01:40:20.817741Z",
     "iopub.status.idle": "2023-12-07T01:40:20.825004Z",
     "shell.execute_reply": "2023-12-07T01:40:20.824030Z",
     "shell.execute_reply.started": "2023-12-07T01:40:20.818123Z"
    }
   },
   "outputs": [
    {
     "name": "stdout",
     "output_type": "stream",
     "text": [
      "2879 42\n"
     ]
    }
   ],
   "source": [
    "# split into train and test sets\n",
    "train_size = int(len(dataset) - 7*6)\n",
    "test_size = len(dataset) - train_size\n",
    "train, test = dataset[0:train_size,:], dataset[train_size:len(dataset),:]\n",
    "\n",
    "train_dates = dailydf[\"date\"][0:train_size]\n",
    "test_dates = dailydf[\"date\"][train_size:len(dataset)]\n",
    "\n",
    "print(len(train), len(test))"
   ]
  },
  {
   "cell_type": "code",
   "execution_count": 32,
   "metadata": {
    "execution": {
     "iopub.execute_input": "2023-12-07T00:29:05.663436Z",
     "iopub.status.busy": "2023-12-07T00:29:05.662861Z",
     "iopub.status.idle": "2023-12-07T00:29:05.672821Z",
     "shell.execute_reply": "2023-12-07T00:29:05.670842Z",
     "shell.execute_reply.started": "2023-12-07T00:29:05.663394Z"
    }
   },
   "outputs": [],
   "source": [
    "pressure_train = train[:,0]\n",
    "temp_train = train[:,1]\n",
    "humidity_train = train[:,2]\n",
    "\n",
    "pressure_test = test[:,0]\n",
    "temp_test = test[:,1]\n",
    "humidity_test = test[:,2]"
   ]
  },
  {
   "cell_type": "code",
   "execution_count": 33,
   "metadata": {
    "execution": {
     "iopub.execute_input": "2023-12-07T00:29:07.761902Z",
     "iopub.status.busy": "2023-12-07T00:29:07.761438Z",
     "iopub.status.idle": "2023-12-07T00:29:07.768742Z",
     "shell.execute_reply": "2023-12-07T00:29:07.767450Z",
     "shell.execute_reply.started": "2023-12-07T00:29:07.761868Z"
    }
   },
   "outputs": [],
   "source": [
    "# convert an array of values into a dataset matrix\n",
    "def create_dataset(dataset, look_back=1, out_window=1):\n",
    "    dataX, dataY = [], []\n",
    "    for i in range(len(dataset)-look_back-out_window):\n",
    "        a = dataset[i:(i+look_back)]\n",
    "        dataX.append(a)\n",
    "        b = dataset[(i + look_back):(i + look_back + out_window)]\n",
    "        dataY.append(b)\n",
    "    return np.array(dataX), np.array(dataY)"
   ]
  },
  {
   "cell_type": "code",
   "execution_count": 34,
   "metadata": {
    "execution": {
     "iopub.execute_input": "2023-12-07T00:29:10.041742Z",
     "iopub.status.busy": "2023-12-07T00:29:10.041410Z",
     "iopub.status.idle": "2023-12-07T00:29:10.049157Z",
     "shell.execute_reply": "2023-12-07T00:29:10.047626Z",
     "shell.execute_reply.started": "2023-12-07T00:29:10.041716Z"
    }
   },
   "outputs": [
    {
     "name": "stdout",
     "output_type": "stream",
     "text": [
      "[[0.55966933 0.66009298 0.71236639 0.72714435 0.67195148 0.64669297\n",
      "  0.80552613 0.89514425 0.82401462 0.69922508 0.6708301  0.77282305\n",
      "  0.82369712 0.79710769]\n",
      " [0.66009298 0.71236639 0.72714435 0.67195148 0.64669297 0.80552613\n",
      "  0.89514425 0.82401462 0.69922508 0.6708301  0.77282305 0.82369712\n",
      "  0.79710769 0.85592449]\n",
      " [0.71236639 0.72714435 0.67195148 0.64669297 0.80552613 0.89514425\n",
      "  0.82401462 0.69922508 0.6708301  0.77282305 0.82369712 0.79710769\n",
      "  0.85592449 0.8774201 ]\n",
      " [0.72714435 0.67195148 0.64669297 0.80552613 0.89514425 0.82401462\n",
      "  0.69922508 0.6708301  0.77282305 0.82369712 0.79710769 0.85592449\n",
      "  0.8774201  0.82639102]]\n",
      "[[0.85592449 0.8774201  0.82639102 0.79671644 0.72920646 0.62775764\n",
      "  0.72934864]\n",
      " [0.8774201  0.82639102 0.79671644 0.72920646 0.62775764 0.72934864\n",
      "  0.76417798]\n",
      " [0.82639102 0.79671644 0.72920646 0.62775764 0.72934864 0.76417798\n",
      "  0.75839679]\n",
      " [0.79671644 0.72920646 0.62775764 0.72934864 0.76417798 0.75839679\n",
      "  0.82315941]]\n"
     ]
    }
   ],
   "source": [
    "X, Y = create_dataset(pressure_test, look_back=14, out_window=7)\n",
    "print(X[1:5])\n",
    "print(Y[1:5])"
   ]
  },
  {
   "cell_type": "code",
   "execution_count": 35,
   "metadata": {
    "execution": {
     "iopub.execute_input": "2023-12-07T00:29:13.063842Z",
     "iopub.status.busy": "2023-12-07T00:29:13.063324Z",
     "iopub.status.idle": "2023-12-07T00:29:13.083448Z",
     "shell.execute_reply": "2023-12-07T00:29:13.081609Z",
     "shell.execute_reply.started": "2023-12-07T00:29:13.063798Z"
    }
   },
   "outputs": [],
   "source": [
    "look_back = 14\n",
    "out_window = 7\n",
    "pressure_trainX, pressure_trainY = create_dataset(pressure_train, look_back, out_window)\n",
    "temp_trainX, temp_trainY = create_dataset(temp_train, look_back, out_window)\n",
    "humidity_trainX, humidity_trainY = create_dataset(humidity_train, look_back, out_window)"
   ]
  },
  {
   "cell_type": "code",
   "execution_count": 36,
   "metadata": {
    "execution": {
     "iopub.execute_input": "2023-12-07T00:29:15.104347Z",
     "iopub.status.busy": "2023-12-07T00:29:15.103853Z",
     "iopub.status.idle": "2023-12-07T00:29:15.109947Z",
     "shell.execute_reply": "2023-12-07T00:29:15.109110Z",
     "shell.execute_reply.started": "2023-12-07T00:29:15.104310Z"
    }
   },
   "outputs": [],
   "source": [
    "# reshape input to be [samples, time steps, features]\n",
    "pressure_trainX = np.reshape(pressure_trainX, (pressure_trainX.shape[0], 1, pressure_trainX.shape[1]))\n",
    "\n",
    "temp_trainX = np.reshape(temp_trainX, (temp_trainX.shape[0], 1, temp_trainX.shape[1]))\n",
    "\n",
    "humidity_trainX = np.reshape(humidity_trainX, (humidity_trainX.shape[0], 1, humidity_trainX.shape[1]))"
   ]
  },
  {
   "cell_type": "code",
   "execution_count": 37,
   "metadata": {
    "execution": {
     "iopub.execute_input": "2023-12-07T00:29:16.975129Z",
     "iopub.status.busy": "2023-12-07T00:29:16.974671Z",
     "iopub.status.idle": "2023-12-07T00:29:16.982378Z",
     "shell.execute_reply": "2023-12-07T00:29:16.980875Z",
     "shell.execute_reply.started": "2023-12-07T00:29:16.975092Z"
    }
   },
   "outputs": [],
   "source": [
    "w1 = temp_train[-look_back:]\n",
    "w2 = np.concatenate([temp_train[-(look_back-out_window):],temp_test[0:out_window]])\n",
    "w3 = temp_test[0:look_back]\n",
    "w4 = temp_test[7:7+14]\n",
    "w5 = temp_test[14:14+14]\n",
    "w6 = temp_test[21:21+14]\n",
    "temp_testX = np.array([w1,w2,w3,w4,w5,w6])\n",
    "temp_testX = np.reshape(temp_testX, (temp_testX.shape[0], 1, temp_testX.shape[1]))"
   ]
  },
  {
   "cell_type": "code",
   "execution_count": 38,
   "metadata": {
    "execution": {
     "iopub.execute_input": "2023-12-07T00:29:19.294968Z",
     "iopub.status.busy": "2023-12-07T00:29:19.294507Z",
     "iopub.status.idle": "2023-12-07T00:29:19.302646Z",
     "shell.execute_reply": "2023-12-07T00:29:19.301417Z",
     "shell.execute_reply.started": "2023-12-07T00:29:19.294932Z"
    }
   },
   "outputs": [],
   "source": [
    "w1 = pressure_train[-look_back:]\n",
    "w2 = np.concatenate([pressure_train[-(look_back-out_window):],pressure_test[0:out_window]])\n",
    "w3 = pressure_test[0:look_back]\n",
    "w4 = pressure_test[7:7+14]\n",
    "w5 = pressure_test[14:14+14]\n",
    "w6 = pressure_test[21:21+14]\n",
    "pressure_testX = np.array([w1,w2,w3,w4,w5,w6])\n",
    "pressure_testX = np.reshape(pressure_testX, (pressure_testX.shape[0], 1, pressure_testX.shape[1]))"
   ]
  },
  {
   "cell_type": "code",
   "execution_count": 39,
   "metadata": {
    "execution": {
     "iopub.execute_input": "2023-12-07T00:29:21.528123Z",
     "iopub.status.busy": "2023-12-07T00:29:21.527525Z",
     "iopub.status.idle": "2023-12-07T00:29:21.537677Z",
     "shell.execute_reply": "2023-12-07T00:29:21.535802Z",
     "shell.execute_reply.started": "2023-12-07T00:29:21.528094Z"
    }
   },
   "outputs": [],
   "source": [
    "w1 = humidity_train[-look_back:]\n",
    "w2 = np.concatenate([humidity_train[-(look_back-out_window):],humidity_test[0:out_window]])\n",
    "w3 = humidity_test[0:look_back]\n",
    "w4 = humidity_test[7:7+14]\n",
    "w5 = humidity_test[14:14+14]\n",
    "w6 = humidity_test[21:21+14]\n",
    "humidity_testX = np.array([w1,w2,w3,w4,w5,w6])\n",
    "humidity_testX = np.reshape(humidity_testX, (humidity_testX.shape[0], 1, humidity_testX.shape[1]))"
   ]
  },
  {
   "cell_type": "markdown",
   "metadata": {},
   "source": [
    "# Pressure"
   ]
  },
  {
   "cell_type": "code",
   "execution_count": 40,
   "metadata": {
    "execution": {
     "iopub.execute_input": "2023-12-07T00:29:24.540680Z",
     "iopub.status.busy": "2023-12-07T00:29:24.540217Z",
     "iopub.status.idle": "2023-12-07T00:39:47.625107Z",
     "shell.execute_reply": "2023-12-07T00:39:47.624230Z",
     "shell.execute_reply.started": "2023-12-07T00:29:24.540638Z"
    }
   },
   "outputs": [
    {
     "name": "stdout",
     "output_type": "stream",
     "text": [
      "Epoch 1/100\n",
      "2858/2858 - 7s - loss: 0.0195 - 7s/epoch - 3ms/step\n",
      "Epoch 2/100\n",
      "2858/2858 - 6s - loss: 0.0141 - 6s/epoch - 2ms/step\n",
      "Epoch 3/100\n",
      "2858/2858 - 6s - loss: 0.0135 - 6s/epoch - 2ms/step\n",
      "Epoch 4/100\n",
      "2858/2858 - 6s - loss: 0.0132 - 6s/epoch - 2ms/step\n",
      "Epoch 5/100\n",
      "2858/2858 - 6s - loss: 0.0130 - 6s/epoch - 2ms/step\n",
      "Epoch 6/100\n",
      "2858/2858 - 6s - loss: 0.0129 - 6s/epoch - 2ms/step\n",
      "Epoch 7/100\n",
      "2858/2858 - 6s - loss: 0.0129 - 6s/epoch - 2ms/step\n",
      "Epoch 8/100\n",
      "2858/2858 - 6s - loss: 0.0129 - 6s/epoch - 2ms/step\n",
      "Epoch 9/100\n",
      "2858/2858 - 6s - loss: 0.0128 - 6s/epoch - 2ms/step\n",
      "Epoch 10/100\n",
      "2858/2858 - 6s - loss: 0.0128 - 6s/epoch - 2ms/step\n",
      "Epoch 11/100\n",
      "2858/2858 - 6s - loss: 0.0128 - 6s/epoch - 2ms/step\n",
      "Epoch 12/100\n",
      "2858/2858 - 6s - loss: 0.0127 - 6s/epoch - 2ms/step\n",
      "Epoch 13/100\n",
      "2858/2858 - 5s - loss: 0.0128 - 5s/epoch - 2ms/step\n",
      "Epoch 14/100\n",
      "2858/2858 - 6s - loss: 0.0128 - 6s/epoch - 2ms/step\n",
      "Epoch 15/100\n",
      "2858/2858 - 6s - loss: 0.0127 - 6s/epoch - 2ms/step\n",
      "Epoch 16/100\n",
      "2858/2858 - 5s - loss: 0.0128 - 5s/epoch - 2ms/step\n",
      "Epoch 17/100\n",
      "2858/2858 - 6s - loss: 0.0127 - 6s/epoch - 2ms/step\n",
      "Epoch 18/100\n",
      "2858/2858 - 5s - loss: 0.0127 - 5s/epoch - 2ms/step\n",
      "Epoch 19/100\n",
      "2858/2858 - 6s - loss: 0.0127 - 6s/epoch - 2ms/step\n",
      "Epoch 20/100\n",
      "2858/2858 - 5s - loss: 0.0126 - 5s/epoch - 2ms/step\n",
      "Epoch 21/100\n",
      "2858/2858 - 5s - loss: 0.0127 - 5s/epoch - 2ms/step\n",
      "Epoch 22/100\n",
      "2858/2858 - 6s - loss: 0.0127 - 6s/epoch - 2ms/step\n",
      "Epoch 23/100\n",
      "2858/2858 - 5s - loss: 0.0127 - 5s/epoch - 2ms/step\n",
      "Epoch 24/100\n",
      "2858/2858 - 5s - loss: 0.0127 - 5s/epoch - 2ms/step\n",
      "Epoch 25/100\n",
      "2858/2858 - 5s - loss: 0.0127 - 5s/epoch - 2ms/step\n",
      "Epoch 26/100\n",
      "2858/2858 - 5s - loss: 0.0127 - 5s/epoch - 2ms/step\n",
      "Epoch 27/100\n",
      "2858/2858 - 6s - loss: 0.0127 - 6s/epoch - 2ms/step\n",
      "Epoch 28/100\n",
      "2858/2858 - 6s - loss: 0.0126 - 6s/epoch - 2ms/step\n",
      "Epoch 29/100\n",
      "2858/2858 - 6s - loss: 0.0126 - 6s/epoch - 2ms/step\n",
      "Epoch 30/100\n",
      "2858/2858 - 6s - loss: 0.0126 - 6s/epoch - 2ms/step\n",
      "Epoch 31/100\n",
      "2858/2858 - 6s - loss: 0.0126 - 6s/epoch - 2ms/step\n",
      "Epoch 32/100\n",
      "2858/2858 - 6s - loss: 0.0126 - 6s/epoch - 2ms/step\n",
      "Epoch 33/100\n",
      "2858/2858 - 6s - loss: 0.0126 - 6s/epoch - 2ms/step\n",
      "Epoch 34/100\n",
      "2858/2858 - 6s - loss: 0.0126 - 6s/epoch - 2ms/step\n",
      "Epoch 35/100\n",
      "2858/2858 - 7s - loss: 0.0126 - 7s/epoch - 2ms/step\n",
      "Epoch 36/100\n",
      "2858/2858 - 7s - loss: 0.0126 - 7s/epoch - 2ms/step\n",
      "Epoch 37/100\n",
      "2858/2858 - 7s - loss: 0.0126 - 7s/epoch - 2ms/step\n",
      "Epoch 38/100\n",
      "2858/2858 - 6s - loss: 0.0126 - 6s/epoch - 2ms/step\n",
      "Epoch 39/100\n",
      "2858/2858 - 7s - loss: 0.0126 - 7s/epoch - 2ms/step\n",
      "Epoch 40/100\n",
      "2858/2858 - 6s - loss: 0.0126 - 6s/epoch - 2ms/step\n",
      "Epoch 41/100\n",
      "2858/2858 - 6s - loss: 0.0126 - 6s/epoch - 2ms/step\n",
      "Epoch 42/100\n",
      "2858/2858 - 6s - loss: 0.0126 - 6s/epoch - 2ms/step\n",
      "Epoch 43/100\n",
      "2858/2858 - 7s - loss: 0.0126 - 7s/epoch - 2ms/step\n",
      "Epoch 44/100\n",
      "2858/2858 - 6s - loss: 0.0126 - 6s/epoch - 2ms/step\n",
      "Epoch 45/100\n",
      "2858/2858 - 7s - loss: 0.0125 - 7s/epoch - 2ms/step\n",
      "Epoch 46/100\n",
      "2858/2858 - 7s - loss: 0.0125 - 7s/epoch - 2ms/step\n",
      "Epoch 47/100\n",
      "2858/2858 - 7s - loss: 0.0125 - 7s/epoch - 2ms/step\n",
      "Epoch 48/100\n",
      "2858/2858 - 7s - loss: 0.0125 - 7s/epoch - 2ms/step\n",
      "Epoch 49/100\n",
      "2858/2858 - 7s - loss: 0.0126 - 7s/epoch - 2ms/step\n",
      "Epoch 50/100\n",
      "2858/2858 - 6s - loss: 0.0125 - 6s/epoch - 2ms/step\n",
      "Epoch 51/100\n",
      "2858/2858 - 7s - loss: 0.0126 - 7s/epoch - 2ms/step\n",
      "Epoch 52/100\n",
      "2858/2858 - 7s - loss: 0.0125 - 7s/epoch - 2ms/step\n",
      "Epoch 53/100\n",
      "2858/2858 - 7s - loss: 0.0125 - 7s/epoch - 2ms/step\n",
      "Epoch 54/100\n",
      "2858/2858 - 6s - loss: 0.0125 - 6s/epoch - 2ms/step\n",
      "Epoch 55/100\n",
      "2858/2858 - 7s - loss: 0.0125 - 7s/epoch - 2ms/step\n",
      "Epoch 56/100\n",
      "2858/2858 - 7s - loss: 0.0125 - 7s/epoch - 2ms/step\n",
      "Epoch 57/100\n",
      "2858/2858 - 6s - loss: 0.0125 - 6s/epoch - 2ms/step\n",
      "Epoch 58/100\n",
      "2858/2858 - 6s - loss: 0.0125 - 6s/epoch - 2ms/step\n",
      "Epoch 59/100\n",
      "2858/2858 - 6s - loss: 0.0125 - 6s/epoch - 2ms/step\n",
      "Epoch 60/100\n",
      "2858/2858 - 6s - loss: 0.0125 - 6s/epoch - 2ms/step\n",
      "Epoch 61/100\n",
      "2858/2858 - 7s - loss: 0.0125 - 7s/epoch - 2ms/step\n",
      "Epoch 62/100\n",
      "2858/2858 - 7s - loss: 0.0125 - 7s/epoch - 2ms/step\n",
      "Epoch 63/100\n",
      "2858/2858 - 6s - loss: 0.0125 - 6s/epoch - 2ms/step\n",
      "Epoch 64/100\n",
      "2858/2858 - 6s - loss: 0.0125 - 6s/epoch - 2ms/step\n",
      "Epoch 65/100\n",
      "2858/2858 - 6s - loss: 0.0125 - 6s/epoch - 2ms/step\n",
      "Epoch 66/100\n",
      "2858/2858 - 6s - loss: 0.0125 - 6s/epoch - 2ms/step\n",
      "Epoch 67/100\n",
      "2858/2858 - 6s - loss: 0.0125 - 6s/epoch - 2ms/step\n",
      "Epoch 68/100\n",
      "2858/2858 - 7s - loss: 0.0125 - 7s/epoch - 2ms/step\n",
      "Epoch 69/100\n",
      "2858/2858 - 7s - loss: 0.0125 - 7s/epoch - 2ms/step\n",
      "Epoch 70/100\n",
      "2858/2858 - 6s - loss: 0.0125 - 6s/epoch - 2ms/step\n",
      "Epoch 71/100\n",
      "2858/2858 - 7s - loss: 0.0125 - 7s/epoch - 2ms/step\n",
      "Epoch 72/100\n",
      "2858/2858 - 7s - loss: 0.0125 - 7s/epoch - 2ms/step\n",
      "Epoch 73/100\n",
      "2858/2858 - 6s - loss: 0.0125 - 6s/epoch - 2ms/step\n",
      "Epoch 74/100\n",
      "2858/2858 - 6s - loss: 0.0125 - 6s/epoch - 2ms/step\n",
      "Epoch 75/100\n",
      "2858/2858 - 6s - loss: 0.0125 - 6s/epoch - 2ms/step\n",
      "Epoch 76/100\n",
      "2858/2858 - 7s - loss: 0.0125 - 7s/epoch - 2ms/step\n",
      "Epoch 77/100\n",
      "2858/2858 - 6s - loss: 0.0125 - 6s/epoch - 2ms/step\n",
      "Epoch 78/100\n",
      "2858/2858 - 6s - loss: 0.0125 - 6s/epoch - 2ms/step\n",
      "Epoch 79/100\n",
      "2858/2858 - 7s - loss: 0.0125 - 7s/epoch - 2ms/step\n",
      "Epoch 80/100\n",
      "2858/2858 - 7s - loss: 0.0125 - 7s/epoch - 2ms/step\n",
      "Epoch 81/100\n",
      "2858/2858 - 6s - loss: 0.0125 - 6s/epoch - 2ms/step\n",
      "Epoch 82/100\n",
      "2858/2858 - 6s - loss: 0.0125 - 6s/epoch - 2ms/step\n",
      "Epoch 83/100\n",
      "2858/2858 - 6s - loss: 0.0124 - 6s/epoch - 2ms/step\n",
      "Epoch 84/100\n",
      "2858/2858 - 6s - loss: 0.0125 - 6s/epoch - 2ms/step\n",
      "Epoch 85/100\n",
      "2858/2858 - 6s - loss: 0.0125 - 6s/epoch - 2ms/step\n",
      "Epoch 86/100\n",
      "2858/2858 - 7s - loss: 0.0125 - 7s/epoch - 2ms/step\n",
      "Epoch 87/100\n",
      "2858/2858 - 6s - loss: 0.0125 - 6s/epoch - 2ms/step\n",
      "Epoch 88/100\n",
      "2858/2858 - 6s - loss: 0.0125 - 6s/epoch - 2ms/step\n",
      "Epoch 89/100\n",
      "2858/2858 - 6s - loss: 0.0125 - 6s/epoch - 2ms/step\n",
      "Epoch 90/100\n",
      "2858/2858 - 6s - loss: 0.0124 - 6s/epoch - 2ms/step\n",
      "Epoch 91/100\n",
      "2858/2858 - 7s - loss: 0.0124 - 7s/epoch - 2ms/step\n",
      "Epoch 92/100\n",
      "2858/2858 - 6s - loss: 0.0125 - 6s/epoch - 2ms/step\n",
      "Epoch 93/100\n",
      "2858/2858 - 6s - loss: 0.0124 - 6s/epoch - 2ms/step\n",
      "Epoch 94/100\n",
      "2858/2858 - 7s - loss: 0.0124 - 7s/epoch - 2ms/step\n",
      "Epoch 95/100\n",
      "2858/2858 - 7s - loss: 0.0124 - 7s/epoch - 2ms/step\n",
      "Epoch 96/100\n",
      "2858/2858 - 6s - loss: 0.0124 - 6s/epoch - 2ms/step\n",
      "Epoch 97/100\n",
      "2858/2858 - 6s - loss: 0.0124 - 6s/epoch - 2ms/step\n",
      "Epoch 98/100\n",
      "2858/2858 - 6s - loss: 0.0125 - 6s/epoch - 2ms/step\n",
      "Epoch 99/100\n",
      "2858/2858 - 6s - loss: 0.0124 - 6s/epoch - 2ms/step\n",
      "Epoch 100/100\n",
      "2858/2858 - 6s - loss: 0.0125 - 6s/epoch - 2ms/step\n"
     ]
    },
    {
     "data": {
      "text/plain": [
       "<keras.src.callbacks.History at 0x7a2e7ca29780>"
      ]
     },
     "execution_count": 40,
     "metadata": {},
     "output_type": "execute_result"
    }
   ],
   "source": [
    "# create and fit the LSTM network\n",
    "model_pressure = Sequential()\n",
    "model_pressure.add(LSTM(10, input_shape=(1, look_back)))\n",
    "model_pressure.add(Dense(out_window))\n",
    "model_pressure.compile(loss='mean_squared_error', optimizer='adam')\n",
    "model_pressure.fit(pressure_trainX, pressure_trainY, epochs=100, batch_size=1, verbose=2)"
   ]
  },
  {
   "cell_type": "code",
   "execution_count": 41,
   "metadata": {
    "execution": {
     "iopub.execute_input": "2023-12-07T00:47:28.269917Z",
     "iopub.status.busy": "2023-12-07T00:47:28.269130Z",
     "iopub.status.idle": "2023-12-07T00:47:28.752419Z",
     "shell.execute_reply": "2023-12-07T00:47:28.750928Z",
     "shell.execute_reply.started": "2023-12-07T00:47:28.269879Z"
    }
   },
   "outputs": [
    {
     "name": "stdout",
     "output_type": "stream",
     "text": [
      "1/1 [==============================] - 0s 421ms/step\n"
     ]
    },
    {
     "data": {
      "text/plain": [
       "array([[0.46456236, 0.5096146 , 0.5365749 , 0.56036043, 0.5758063 ,\n",
       "        0.5876053 , 0.593605  ],\n",
       "       [0.6390214 , 0.6303675 , 0.61722064, 0.61808413, 0.6159782 ,\n",
       "        0.61873496, 0.6163024 ],\n",
       "       [0.78152233, 0.72331583, 0.6768903 , 0.6630265 , 0.65353787,\n",
       "        0.6494371 , 0.63557744],\n",
       "       [0.5812743 , 0.59754884, 0.6060806 , 0.6099965 , 0.6158105 ,\n",
       "        0.61947894, 0.6170068 ],\n",
       "       [0.8093133 , 0.7455169 , 0.6955111 , 0.67541105, 0.6660129 ,\n",
       "        0.66341215, 0.6489687 ],\n",
       "       [0.69045836, 0.6689941 , 0.65084183, 0.6424422 , 0.63926953,\n",
       "        0.63869107, 0.63074136]], dtype=float32)"
      ]
     },
     "execution_count": 41,
     "metadata": {},
     "output_type": "execute_result"
    }
   ],
   "source": [
    "pressure_forecasts = model_pressure.predict(pressure_testX, batch_size=10)\n",
    "pressure_forecasts"
   ]
  },
  {
   "cell_type": "code",
   "execution_count": 156,
   "metadata": {
    "execution": {
     "iopub.execute_input": "2023-12-06T21:39:33.970332Z",
     "iopub.status.busy": "2023-12-06T21:39:33.969408Z",
     "iopub.status.idle": "2023-12-06T21:39:33.977789Z",
     "shell.execute_reply": "2023-12-06T21:39:33.976012Z",
     "shell.execute_reply.started": "2023-12-06T21:39:33.970299Z"
    }
   },
   "outputs": [],
   "source": [
    "def evaluate_forecasts(test, forecasts, n_seq):\n",
    "    rmse = np.sqrt(mean_squared_error(actual, predicted))\n",
    "    print('%d RMSE: %f' % ((i+1), rmse))"
   ]
  },
  {
   "cell_type": "code",
   "execution_count": null,
   "metadata": {
    "execution": {
     "iopub.status.busy": "2023-12-06T22:09:39.639241Z",
     "iopub.status.idle": "2023-12-06T22:09:39.639542Z",
     "shell.execute_reply": "2023-12-06T22:09:39.639411Z",
     "shell.execute_reply.started": "2023-12-06T22:09:39.639397Z"
    }
   },
   "outputs": [],
   "source": [
    "evaluate_forecasts(pressure_test, pressure_forecasts, 6)"
   ]
  },
  {
   "cell_type": "markdown",
   "metadata": {},
   "source": [
    "# Temperature"
   ]
  },
  {
   "cell_type": "code",
   "execution_count": 42,
   "metadata": {
    "execution": {
     "iopub.execute_input": "2023-12-07T00:47:35.651587Z",
     "iopub.status.busy": "2023-12-07T00:47:35.651119Z",
     "iopub.status.idle": "2023-12-07T00:58:25.088272Z",
     "shell.execute_reply": "2023-12-07T00:58:25.086082Z",
     "shell.execute_reply.started": "2023-12-07T00:47:35.651557Z"
    }
   },
   "outputs": [
    {
     "name": "stdout",
     "output_type": "stream",
     "text": [
      "Epoch 1/100\n",
      "2858/2858 - 7s - loss: 0.0152 - 7s/epoch - 3ms/step\n",
      "Epoch 2/100\n",
      "2858/2858 - 7s - loss: 0.0083 - 7s/epoch - 2ms/step\n",
      "Epoch 3/100\n",
      "2858/2858 - 7s - loss: 0.0081 - 7s/epoch - 2ms/step\n",
      "Epoch 4/100\n",
      "2858/2858 - 6s - loss: 0.0079 - 6s/epoch - 2ms/step\n",
      "Epoch 5/100\n",
      "2858/2858 - 6s - loss: 0.0078 - 6s/epoch - 2ms/step\n",
      "Epoch 6/100\n",
      "2858/2858 - 6s - loss: 0.0077 - 6s/epoch - 2ms/step\n",
      "Epoch 7/100\n",
      "2858/2858 - 6s - loss: 0.0077 - 6s/epoch - 2ms/step\n",
      "Epoch 8/100\n",
      "2858/2858 - 6s - loss: 0.0076 - 6s/epoch - 2ms/step\n",
      "Epoch 9/100\n",
      "2858/2858 - 6s - loss: 0.0075 - 6s/epoch - 2ms/step\n",
      "Epoch 10/100\n",
      "2858/2858 - 6s - loss: 0.0075 - 6s/epoch - 2ms/step\n",
      "Epoch 11/100\n",
      "2858/2858 - 6s - loss: 0.0074 - 6s/epoch - 2ms/step\n",
      "Epoch 12/100\n",
      "2858/2858 - 6s - loss: 0.0075 - 6s/epoch - 2ms/step\n",
      "Epoch 13/100\n",
      "2858/2858 - 6s - loss: 0.0074 - 6s/epoch - 2ms/step\n",
      "Epoch 14/100\n",
      "2858/2858 - 6s - loss: 0.0074 - 6s/epoch - 2ms/step\n",
      "Epoch 15/100\n",
      "2858/2858 - 6s - loss: 0.0074 - 6s/epoch - 2ms/step\n",
      "Epoch 16/100\n",
      "2858/2858 - 6s - loss: 0.0074 - 6s/epoch - 2ms/step\n",
      "Epoch 17/100\n",
      "2858/2858 - 6s - loss: 0.0074 - 6s/epoch - 2ms/step\n",
      "Epoch 18/100\n",
      "2858/2858 - 7s - loss: 0.0074 - 7s/epoch - 2ms/step\n",
      "Epoch 19/100\n",
      "2858/2858 - 6s - loss: 0.0073 - 6s/epoch - 2ms/step\n",
      "Epoch 20/100\n",
      "2858/2858 - 6s - loss: 0.0073 - 6s/epoch - 2ms/step\n",
      "Epoch 21/100\n",
      "2858/2858 - 7s - loss: 0.0074 - 7s/epoch - 2ms/step\n",
      "Epoch 22/100\n",
      "2858/2858 - 6s - loss: 0.0073 - 6s/epoch - 2ms/step\n",
      "Epoch 23/100\n",
      "2858/2858 - 7s - loss: 0.0074 - 7s/epoch - 2ms/step\n",
      "Epoch 24/100\n",
      "2858/2858 - 7s - loss: 0.0073 - 7s/epoch - 2ms/step\n",
      "Epoch 25/100\n",
      "2858/2858 - 7s - loss: 0.0073 - 7s/epoch - 2ms/step\n",
      "Epoch 26/100\n",
      "2858/2858 - 6s - loss: 0.0073 - 6s/epoch - 2ms/step\n",
      "Epoch 27/100\n",
      "2858/2858 - 6s - loss: 0.0073 - 6s/epoch - 2ms/step\n",
      "Epoch 28/100\n",
      "2858/2858 - 6s - loss: 0.0073 - 6s/epoch - 2ms/step\n",
      "Epoch 29/100\n",
      "2858/2858 - 7s - loss: 0.0073 - 7s/epoch - 2ms/step\n",
      "Epoch 30/100\n",
      "2858/2858 - 6s - loss: 0.0072 - 6s/epoch - 2ms/step\n",
      "Epoch 31/100\n",
      "2858/2858 - 6s - loss: 0.0073 - 6s/epoch - 2ms/step\n",
      "Epoch 32/100\n",
      "2858/2858 - 6s - loss: 0.0073 - 6s/epoch - 2ms/step\n",
      "Epoch 33/100\n",
      "2858/2858 - 6s - loss: 0.0073 - 6s/epoch - 2ms/step\n",
      "Epoch 34/100\n",
      "2858/2858 - 6s - loss: 0.0072 - 6s/epoch - 2ms/step\n",
      "Epoch 35/100\n",
      "2858/2858 - 6s - loss: 0.0073 - 6s/epoch - 2ms/step\n",
      "Epoch 36/100\n",
      "2858/2858 - 6s - loss: 0.0073 - 6s/epoch - 2ms/step\n",
      "Epoch 37/100\n",
      "2858/2858 - 6s - loss: 0.0073 - 6s/epoch - 2ms/step\n",
      "Epoch 38/100\n",
      "2858/2858 - 6s - loss: 0.0072 - 6s/epoch - 2ms/step\n",
      "Epoch 39/100\n",
      "2858/2858 - 6s - loss: 0.0072 - 6s/epoch - 2ms/step\n",
      "Epoch 40/100\n",
      "2858/2858 - 7s - loss: 0.0072 - 7s/epoch - 2ms/step\n",
      "Epoch 41/100\n",
      "2858/2858 - 7s - loss: 0.0072 - 7s/epoch - 2ms/step\n",
      "Epoch 42/100\n",
      "2858/2858 - 7s - loss: 0.0072 - 7s/epoch - 2ms/step\n",
      "Epoch 43/100\n",
      "2858/2858 - 7s - loss: 0.0072 - 7s/epoch - 2ms/step\n",
      "Epoch 44/100\n",
      "2858/2858 - 7s - loss: 0.0072 - 7s/epoch - 2ms/step\n",
      "Epoch 45/100\n",
      "2858/2858 - 7s - loss: 0.0072 - 7s/epoch - 2ms/step\n",
      "Epoch 46/100\n",
      "2858/2858 - 7s - loss: 0.0072 - 7s/epoch - 2ms/step\n",
      "Epoch 47/100\n",
      "2858/2858 - 7s - loss: 0.0072 - 7s/epoch - 2ms/step\n",
      "Epoch 48/100\n",
      "2858/2858 - 7s - loss: 0.0072 - 7s/epoch - 2ms/step\n",
      "Epoch 49/100\n",
      "2858/2858 - 6s - loss: 0.0072 - 6s/epoch - 2ms/step\n",
      "Epoch 50/100\n",
      "2858/2858 - 7s - loss: 0.0072 - 7s/epoch - 2ms/step\n",
      "Epoch 51/100\n",
      "2858/2858 - 7s - loss: 0.0072 - 7s/epoch - 2ms/step\n",
      "Epoch 52/100\n",
      "2858/2858 - 7s - loss: 0.0072 - 7s/epoch - 2ms/step\n",
      "Epoch 53/100\n",
      "2858/2858 - 7s - loss: 0.0072 - 7s/epoch - 2ms/step\n",
      "Epoch 54/100\n",
      "2858/2858 - 7s - loss: 0.0072 - 7s/epoch - 2ms/step\n",
      "Epoch 55/100\n",
      "2858/2858 - 7s - loss: 0.0072 - 7s/epoch - 2ms/step\n",
      "Epoch 56/100\n",
      "2858/2858 - 7s - loss: 0.0072 - 7s/epoch - 2ms/step\n",
      "Epoch 57/100\n",
      "2858/2858 - 7s - loss: 0.0072 - 7s/epoch - 2ms/step\n",
      "Epoch 58/100\n",
      "2858/2858 - 6s - loss: 0.0071 - 6s/epoch - 2ms/step\n",
      "Epoch 59/100\n",
      "2858/2858 - 6s - loss: 0.0072 - 6s/epoch - 2ms/step\n",
      "Epoch 60/100\n",
      "2858/2858 - 6s - loss: 0.0072 - 6s/epoch - 2ms/step\n",
      "Epoch 61/100\n",
      "2858/2858 - 6s - loss: 0.0072 - 6s/epoch - 2ms/step\n",
      "Epoch 62/100\n",
      "2858/2858 - 6s - loss: 0.0071 - 6s/epoch - 2ms/step\n",
      "Epoch 63/100\n",
      "2858/2858 - 6s - loss: 0.0071 - 6s/epoch - 2ms/step\n",
      "Epoch 64/100\n",
      "2858/2858 - 6s - loss: 0.0072 - 6s/epoch - 2ms/step\n",
      "Epoch 65/100\n",
      "2858/2858 - 6s - loss: 0.0071 - 6s/epoch - 2ms/step\n",
      "Epoch 66/100\n",
      "2858/2858 - 6s - loss: 0.0071 - 6s/epoch - 2ms/step\n",
      "Epoch 67/100\n",
      "2858/2858 - 6s - loss: 0.0071 - 6s/epoch - 2ms/step\n",
      "Epoch 68/100\n",
      "2858/2858 - 6s - loss: 0.0071 - 6s/epoch - 2ms/step\n",
      "Epoch 69/100\n",
      "2858/2858 - 7s - loss: 0.0071 - 7s/epoch - 2ms/step\n",
      "Epoch 70/100\n",
      "2858/2858 - 7s - loss: 0.0071 - 7s/epoch - 2ms/step\n",
      "Epoch 71/100\n",
      "2858/2858 - 7s - loss: 0.0071 - 7s/epoch - 2ms/step\n",
      "Epoch 72/100\n",
      "2858/2858 - 7s - loss: 0.0071 - 7s/epoch - 2ms/step\n",
      "Epoch 73/100\n",
      "2858/2858 - 7s - loss: 0.0071 - 7s/epoch - 2ms/step\n",
      "Epoch 74/100\n",
      "2858/2858 - 7s - loss: 0.0071 - 7s/epoch - 2ms/step\n",
      "Epoch 75/100\n",
      "2858/2858 - 7s - loss: 0.0071 - 7s/epoch - 2ms/step\n",
      "Epoch 76/100\n",
      "2858/2858 - 7s - loss: 0.0071 - 7s/epoch - 2ms/step\n",
      "Epoch 77/100\n",
      "2858/2858 - 7s - loss: 0.0071 - 7s/epoch - 2ms/step\n",
      "Epoch 78/100\n",
      "2858/2858 - 7s - loss: 0.0071 - 7s/epoch - 2ms/step\n",
      "Epoch 79/100\n",
      "2858/2858 - 7s - loss: 0.0071 - 7s/epoch - 2ms/step\n",
      "Epoch 80/100\n",
      "2858/2858 - 7s - loss: 0.0071 - 7s/epoch - 2ms/step\n",
      "Epoch 81/100\n",
      "2858/2858 - 7s - loss: 0.0071 - 7s/epoch - 2ms/step\n",
      "Epoch 82/100\n",
      "2858/2858 - 7s - loss: 0.0071 - 7s/epoch - 2ms/step\n",
      "Epoch 83/100\n",
      "2858/2858 - 6s - loss: 0.0071 - 6s/epoch - 2ms/step\n",
      "Epoch 84/100\n",
      "2858/2858 - 7s - loss: 0.0071 - 7s/epoch - 2ms/step\n",
      "Epoch 85/100\n",
      "2858/2858 - 7s - loss: 0.0071 - 7s/epoch - 2ms/step\n",
      "Epoch 86/100\n",
      "2858/2858 - 6s - loss: 0.0071 - 6s/epoch - 2ms/step\n",
      "Epoch 87/100\n",
      "2858/2858 - 6s - loss: 0.0071 - 6s/epoch - 2ms/step\n",
      "Epoch 88/100\n",
      "2858/2858 - 7s - loss: 0.0071 - 7s/epoch - 2ms/step\n",
      "Epoch 89/100\n",
      "2858/2858 - 7s - loss: 0.0071 - 7s/epoch - 2ms/step\n",
      "Epoch 90/100\n",
      "2858/2858 - 6s - loss: 0.0071 - 6s/epoch - 2ms/step\n",
      "Epoch 91/100\n",
      "2858/2858 - 6s - loss: 0.0071 - 6s/epoch - 2ms/step\n",
      "Epoch 92/100\n",
      "2858/2858 - 6s - loss: 0.0071 - 6s/epoch - 2ms/step\n",
      "Epoch 93/100\n",
      "2858/2858 - 6s - loss: 0.0071 - 6s/epoch - 2ms/step\n",
      "Epoch 94/100\n",
      "2858/2858 - 7s - loss: 0.0071 - 7s/epoch - 2ms/step\n",
      "Epoch 95/100\n",
      "2858/2858 - 6s - loss: 0.0071 - 6s/epoch - 2ms/step\n",
      "Epoch 96/100\n",
      "2858/2858 - 6s - loss: 0.0071 - 6s/epoch - 2ms/step\n",
      "Epoch 97/100\n",
      "2858/2858 - 6s - loss: 0.0071 - 6s/epoch - 2ms/step\n",
      "Epoch 98/100\n",
      "2858/2858 - 7s - loss: 0.0071 - 7s/epoch - 2ms/step\n",
      "Epoch 99/100\n",
      "2858/2858 - 7s - loss: 0.0071 - 7s/epoch - 2ms/step\n",
      "Epoch 100/100\n",
      "2858/2858 - 6s - loss: 0.0071 - 6s/epoch - 2ms/step\n"
     ]
    },
    {
     "data": {
      "text/plain": [
       "<keras.src.callbacks.History at 0x7a2e5dfa6500>"
      ]
     },
     "execution_count": 42,
     "metadata": {},
     "output_type": "execute_result"
    }
   ],
   "source": [
    "# create and fit the LSTM network\n",
    "model_temp = Sequential()\n",
    "model_temp.add(LSTM(10, input_shape=(1, look_back)))\n",
    "model_temp.add(Dense(out_window))\n",
    "model_temp.compile(loss='mean_squared_error', optimizer='adam')\n",
    "model_temp.fit(temp_trainX, temp_trainY, epochs=100, batch_size=1, verbose=2)"
   ]
  },
  {
   "cell_type": "code",
   "execution_count": 43,
   "metadata": {
    "execution": {
     "iopub.execute_input": "2023-12-07T00:58:25.092467Z",
     "iopub.status.busy": "2023-12-07T00:58:25.091907Z",
     "iopub.status.idle": "2023-12-07T00:58:25.813996Z",
     "shell.execute_reply": "2023-12-07T00:58:25.813313Z",
     "shell.execute_reply.started": "2023-12-07T00:58:25.092421Z"
    }
   },
   "outputs": [
    {
     "name": "stdout",
     "output_type": "stream",
     "text": [
      "1/1 [==============================] - 1s 663ms/step\n"
     ]
    },
    {
     "data": {
      "text/plain": [
       "array([[0.56692356, 0.5527869 , 0.5447787 , 0.52863085, 0.52211094,\n",
       "        0.5165386 , 0.51775926],\n",
       "       [0.46702784, 0.46392703, 0.46500266, 0.45719275, 0.45985448,\n",
       "        0.4642629 , 0.4724686 ],\n",
       "       [0.28844213, 0.3192485 , 0.3474152 , 0.3508693 , 0.35430422,\n",
       "        0.36465022, 0.38774472],\n",
       "       [0.5016942 , 0.4877845 , 0.47882295, 0.46446428, 0.46002632,\n",
       "        0.45763284, 0.45770073],\n",
       "       [0.43746716, 0.4286617 , 0.4205774 , 0.40870684, 0.40979528,\n",
       "        0.41261855, 0.4154399 ],\n",
       "       [0.52732635, 0.5016411 , 0.48572123, 0.47550017, 0.48525277,\n",
       "        0.48371893, 0.47892347]], dtype=float32)"
      ]
     },
     "execution_count": 43,
     "metadata": {},
     "output_type": "execute_result"
    }
   ],
   "source": [
    "temp_forecasts = model_temp.predict(temp_testX, batch_size=10)\n",
    "temp_forecasts"
   ]
  },
  {
   "cell_type": "code",
   "execution_count": null,
   "metadata": {},
   "outputs": [],
   "source": [
    "evaluate_forecasts(temp_test, pressure_forecasts, 6)"
   ]
  },
  {
   "cell_type": "markdown",
   "metadata": {},
   "source": [
    "# Humidity"
   ]
  },
  {
   "cell_type": "code",
   "execution_count": 44,
   "metadata": {
    "execution": {
     "iopub.execute_input": "2023-12-07T01:12:37.155561Z",
     "iopub.status.busy": "2023-12-07T01:12:37.155059Z",
     "iopub.status.idle": "2023-12-07T01:23:31.355790Z",
     "shell.execute_reply": "2023-12-07T01:23:31.354365Z",
     "shell.execute_reply.started": "2023-12-07T01:12:37.155526Z"
    }
   },
   "outputs": [
    {
     "name": "stdout",
     "output_type": "stream",
     "text": [
      "Epoch 1/100\n",
      "2858/2858 - 8s - loss: 0.0152 - 8s/epoch - 3ms/step\n",
      "Epoch 2/100\n",
      "2858/2858 - 7s - loss: 0.0110 - 7s/epoch - 2ms/step\n",
      "Epoch 3/100\n",
      "2858/2858 - 6s - loss: 0.0108 - 6s/epoch - 2ms/step\n",
      "Epoch 4/100\n",
      "2858/2858 - 6s - loss: 0.0107 - 6s/epoch - 2ms/step\n",
      "Epoch 5/100\n",
      "2858/2858 - 6s - loss: 0.0106 - 6s/epoch - 2ms/step\n",
      "Epoch 6/100\n",
      "2858/2858 - 6s - loss: 0.0105 - 6s/epoch - 2ms/step\n",
      "Epoch 7/100\n",
      "2858/2858 - 6s - loss: 0.0105 - 6s/epoch - 2ms/step\n",
      "Epoch 8/100\n",
      "2858/2858 - 6s - loss: 0.0104 - 6s/epoch - 2ms/step\n",
      "Epoch 9/100\n",
      "2858/2858 - 6s - loss: 0.0104 - 6s/epoch - 2ms/step\n",
      "Epoch 10/100\n",
      "2858/2858 - 6s - loss: 0.0104 - 6s/epoch - 2ms/step\n",
      "Epoch 11/100\n",
      "2858/2858 - 7s - loss: 0.0103 - 7s/epoch - 2ms/step\n",
      "Epoch 12/100\n",
      "2858/2858 - 7s - loss: 0.0104 - 7s/epoch - 2ms/step\n",
      "Epoch 13/100\n",
      "2858/2858 - 6s - loss: 0.0103 - 6s/epoch - 2ms/step\n",
      "Epoch 14/100\n",
      "2858/2858 - 6s - loss: 0.0102 - 6s/epoch - 2ms/step\n",
      "Epoch 15/100\n",
      "2858/2858 - 7s - loss: 0.0103 - 7s/epoch - 2ms/step\n",
      "Epoch 16/100\n",
      "2858/2858 - 6s - loss: 0.0102 - 6s/epoch - 2ms/step\n",
      "Epoch 17/100\n",
      "2858/2858 - 7s - loss: 0.0103 - 7s/epoch - 2ms/step\n",
      "Epoch 18/100\n",
      "2858/2858 - 6s - loss: 0.0102 - 6s/epoch - 2ms/step\n",
      "Epoch 19/100\n",
      "2858/2858 - 6s - loss: 0.0102 - 6s/epoch - 2ms/step\n",
      "Epoch 20/100\n",
      "2858/2858 - 6s - loss: 0.0102 - 6s/epoch - 2ms/step\n",
      "Epoch 21/100\n",
      "2858/2858 - 6s - loss: 0.0102 - 6s/epoch - 2ms/step\n",
      "Epoch 22/100\n",
      "2858/2858 - 6s - loss: 0.0102 - 6s/epoch - 2ms/step\n",
      "Epoch 23/100\n",
      "2858/2858 - 6s - loss: 0.0102 - 6s/epoch - 2ms/step\n",
      "Epoch 24/100\n",
      "2858/2858 - 6s - loss: 0.0102 - 6s/epoch - 2ms/step\n",
      "Epoch 25/100\n",
      "2858/2858 - 6s - loss: 0.0101 - 6s/epoch - 2ms/step\n",
      "Epoch 26/100\n",
      "2858/2858 - 6s - loss: 0.0101 - 6s/epoch - 2ms/step\n",
      "Epoch 27/100\n",
      "2858/2858 - 6s - loss: 0.0102 - 6s/epoch - 2ms/step\n",
      "Epoch 28/100\n",
      "2858/2858 - 6s - loss: 0.0102 - 6s/epoch - 2ms/step\n",
      "Epoch 29/100\n",
      "2858/2858 - 7s - loss: 0.0101 - 7s/epoch - 2ms/step\n",
      "Epoch 30/100\n",
      "2858/2858 - 6s - loss: 0.0101 - 6s/epoch - 2ms/step\n",
      "Epoch 31/100\n",
      "2858/2858 - 7s - loss: 0.0102 - 7s/epoch - 2ms/step\n",
      "Epoch 32/100\n",
      "2858/2858 - 7s - loss: 0.0102 - 7s/epoch - 2ms/step\n",
      "Epoch 33/100\n",
      "2858/2858 - 7s - loss: 0.0101 - 7s/epoch - 2ms/step\n",
      "Epoch 34/100\n",
      "2858/2858 - 7s - loss: 0.0101 - 7s/epoch - 2ms/step\n",
      "Epoch 35/100\n",
      "2858/2858 - 7s - loss: 0.0101 - 7s/epoch - 2ms/step\n",
      "Epoch 36/100\n",
      "2858/2858 - 6s - loss: 0.0101 - 6s/epoch - 2ms/step\n",
      "Epoch 37/100\n",
      "2858/2858 - 7s - loss: 0.0101 - 7s/epoch - 2ms/step\n",
      "Epoch 38/100\n",
      "2858/2858 - 7s - loss: 0.0101 - 7s/epoch - 2ms/step\n",
      "Epoch 39/100\n",
      "2858/2858 - 7s - loss: 0.0101 - 7s/epoch - 2ms/step\n",
      "Epoch 40/100\n",
      "2858/2858 - 7s - loss: 0.0101 - 7s/epoch - 2ms/step\n",
      "Epoch 41/100\n",
      "2858/2858 - 7s - loss: 0.0101 - 7s/epoch - 2ms/step\n",
      "Epoch 42/100\n",
      "2858/2858 - 7s - loss: 0.0101 - 7s/epoch - 2ms/step\n",
      "Epoch 43/100\n",
      "2858/2858 - 7s - loss: 0.0101 - 7s/epoch - 2ms/step\n",
      "Epoch 44/100\n",
      "2858/2858 - 7s - loss: 0.0101 - 7s/epoch - 2ms/step\n",
      "Epoch 45/100\n",
      "2858/2858 - 6s - loss: 0.0101 - 6s/epoch - 2ms/step\n",
      "Epoch 46/100\n",
      "2858/2858 - 6s - loss: 0.0101 - 6s/epoch - 2ms/step\n",
      "Epoch 47/100\n",
      "2858/2858 - 7s - loss: 0.0101 - 7s/epoch - 2ms/step\n",
      "Epoch 48/100\n",
      "2858/2858 - 7s - loss: 0.0101 - 7s/epoch - 2ms/step\n",
      "Epoch 49/100\n",
      "2858/2858 - 6s - loss: 0.0101 - 6s/epoch - 2ms/step\n",
      "Epoch 50/100\n",
      "2858/2858 - 6s - loss: 0.0101 - 6s/epoch - 2ms/step\n",
      "Epoch 51/100\n",
      "2858/2858 - 6s - loss: 0.0101 - 6s/epoch - 2ms/step\n",
      "Epoch 52/100\n",
      "2858/2858 - 7s - loss: 0.0101 - 7s/epoch - 2ms/step\n",
      "Epoch 53/100\n",
      "2858/2858 - 7s - loss: 0.0101 - 7s/epoch - 2ms/step\n",
      "Epoch 54/100\n",
      "2858/2858 - 6s - loss: 0.0101 - 6s/epoch - 2ms/step\n",
      "Epoch 55/100\n",
      "2858/2858 - 6s - loss: 0.0101 - 6s/epoch - 2ms/step\n",
      "Epoch 56/100\n",
      "2858/2858 - 6s - loss: 0.0101 - 6s/epoch - 2ms/step\n",
      "Epoch 57/100\n",
      "2858/2858 - 6s - loss: 0.0101 - 6s/epoch - 2ms/step\n",
      "Epoch 58/100\n",
      "2858/2858 - 6s - loss: 0.0101 - 6s/epoch - 2ms/step\n",
      "Epoch 59/100\n",
      "2858/2858 - 7s - loss: 0.0101 - 7s/epoch - 2ms/step\n",
      "Epoch 60/100\n",
      "2858/2858 - 7s - loss: 0.0101 - 7s/epoch - 2ms/step\n",
      "Epoch 61/100\n",
      "2858/2858 - 6s - loss: 0.0101 - 6s/epoch - 2ms/step\n",
      "Epoch 62/100\n",
      "2858/2858 - 6s - loss: 0.0101 - 6s/epoch - 2ms/step\n",
      "Epoch 63/100\n",
      "2858/2858 - 6s - loss: 0.0100 - 6s/epoch - 2ms/step\n",
      "Epoch 64/100\n",
      "2858/2858 - 6s - loss: 0.0101 - 6s/epoch - 2ms/step\n",
      "Epoch 65/100\n",
      "2858/2858 - 6s - loss: 0.0101 - 6s/epoch - 2ms/step\n",
      "Epoch 66/100\n",
      "2858/2858 - 6s - loss: 0.0101 - 6s/epoch - 2ms/step\n",
      "Epoch 67/100\n",
      "2858/2858 - 7s - loss: 0.0100 - 7s/epoch - 2ms/step\n",
      "Epoch 68/100\n",
      "2858/2858 - 7s - loss: 0.0101 - 7s/epoch - 2ms/step\n",
      "Epoch 69/100\n",
      "2858/2858 - 7s - loss: 0.0100 - 7s/epoch - 2ms/step\n",
      "Epoch 70/100\n",
      "2858/2858 - 7s - loss: 0.0101 - 7s/epoch - 2ms/step\n",
      "Epoch 71/100\n",
      "2858/2858 - 7s - loss: 0.0100 - 7s/epoch - 2ms/step\n",
      "Epoch 72/100\n",
      "2858/2858 - 7s - loss: 0.0100 - 7s/epoch - 2ms/step\n",
      "Epoch 73/100\n",
      "2858/2858 - 7s - loss: 0.0100 - 7s/epoch - 2ms/step\n",
      "Epoch 74/100\n",
      "2858/2858 - 7s - loss: 0.0100 - 7s/epoch - 2ms/step\n",
      "Epoch 75/100\n",
      "2858/2858 - 6s - loss: 0.0101 - 6s/epoch - 2ms/step\n",
      "Epoch 76/100\n",
      "2858/2858 - 7s - loss: 0.0101 - 7s/epoch - 2ms/step\n",
      "Epoch 77/100\n",
      "2858/2858 - 7s - loss: 0.0101 - 7s/epoch - 2ms/step\n",
      "Epoch 78/100\n",
      "2858/2858 - 6s - loss: 0.0100 - 6s/epoch - 2ms/step\n",
      "Epoch 79/100\n",
      "2858/2858 - 7s - loss: 0.0100 - 7s/epoch - 2ms/step\n",
      "Epoch 80/100\n",
      "2858/2858 - 6s - loss: 0.0101 - 6s/epoch - 2ms/step\n",
      "Epoch 81/100\n",
      "2858/2858 - 7s - loss: 0.0100 - 7s/epoch - 2ms/step\n",
      "Epoch 82/100\n",
      "2858/2858 - 7s - loss: 0.0100 - 7s/epoch - 2ms/step\n",
      "Epoch 83/100\n",
      "2858/2858 - 7s - loss: 0.0100 - 7s/epoch - 2ms/step\n",
      "Epoch 84/100\n",
      "2858/2858 - 7s - loss: 0.0100 - 7s/epoch - 2ms/step\n",
      "Epoch 85/100\n",
      "2858/2858 - 7s - loss: 0.0100 - 7s/epoch - 2ms/step\n",
      "Epoch 86/100\n",
      "2858/2858 - 6s - loss: 0.0100 - 6s/epoch - 2ms/step\n",
      "Epoch 87/100\n",
      "2858/2858 - 7s - loss: 0.0100 - 7s/epoch - 2ms/step\n",
      "Epoch 88/100\n",
      "2858/2858 - 7s - loss: 0.0100 - 7s/epoch - 2ms/step\n",
      "Epoch 89/100\n",
      "2858/2858 - 6s - loss: 0.0100 - 6s/epoch - 2ms/step\n",
      "Epoch 90/100\n",
      "2858/2858 - 7s - loss: 0.0100 - 7s/epoch - 2ms/step\n",
      "Epoch 91/100\n",
      "2858/2858 - 7s - loss: 0.0100 - 7s/epoch - 2ms/step\n",
      "Epoch 92/100\n",
      "2858/2858 - 7s - loss: 0.0100 - 7s/epoch - 2ms/step\n",
      "Epoch 93/100\n",
      "2858/2858 - 6s - loss: 0.0100 - 6s/epoch - 2ms/step\n",
      "Epoch 94/100\n",
      "2858/2858 - 7s - loss: 0.0100 - 7s/epoch - 2ms/step\n",
      "Epoch 95/100\n",
      "2858/2858 - 7s - loss: 0.0100 - 7s/epoch - 2ms/step\n",
      "Epoch 96/100\n",
      "2858/2858 - 6s - loss: 0.0100 - 6s/epoch - 2ms/step\n",
      "Epoch 97/100\n",
      "2858/2858 - 6s - loss: 0.0100 - 6s/epoch - 2ms/step\n",
      "Epoch 98/100\n",
      "2858/2858 - 6s - loss: 0.0100 - 6s/epoch - 2ms/step\n",
      "Epoch 99/100\n",
      "2858/2858 - 6s - loss: 0.0100 - 6s/epoch - 2ms/step\n",
      "Epoch 100/100\n",
      "2858/2858 - 6s - loss: 0.0100 - 6s/epoch - 2ms/step\n"
     ]
    },
    {
     "data": {
      "text/plain": [
       "<keras.src.callbacks.History at 0x7a2e7ca6a3b0>"
      ]
     },
     "execution_count": 44,
     "metadata": {},
     "output_type": "execute_result"
    }
   ],
   "source": [
    "# create and fit the LSTM network\n",
    "model_humidity = Sequential()\n",
    "model_humidity.add(LSTM(10, input_shape=(1, look_back)))\n",
    "model_humidity.add(Dense(out_window))\n",
    "model_humidity.compile(loss='mean_squared_error', optimizer='adam')\n",
    "model_humidity.fit(humidity_trainX, humidity_trainY, epochs=100, batch_size=1, verbose=2)"
   ]
  },
  {
   "cell_type": "code",
   "execution_count": 45,
   "metadata": {
    "execution": {
     "iopub.execute_input": "2023-12-07T01:23:31.358609Z",
     "iopub.status.busy": "2023-12-07T01:23:31.358279Z",
     "iopub.status.idle": "2023-12-07T01:23:31.766557Z",
     "shell.execute_reply": "2023-12-07T01:23:31.765347Z",
     "shell.execute_reply.started": "2023-12-07T01:23:31.358580Z"
    }
   },
   "outputs": [
    {
     "name": "stdout",
     "output_type": "stream",
     "text": [
      "1/1 [==============================] - 0s 346ms/step\n"
     ]
    },
    {
     "data": {
      "text/plain": [
       "array([[0.26640928, 0.2676956 , 0.2649424 , 0.25464934, 0.24424675,\n",
       "        0.25516778, 0.25298598],\n",
       "       [0.2663317 , 0.27024508, 0.26589763, 0.25628853, 0.2509028 ,\n",
       "        0.25367495, 0.26168483],\n",
       "       [0.15050401, 0.15684898, 0.1714007 , 0.17407197, 0.17159112,\n",
       "        0.18596262, 0.19312505],\n",
       "       [0.26817155, 0.25116497, 0.24531749, 0.24033418, 0.22793393,\n",
       "        0.23452516, 0.23292482],\n",
       "       [0.27353227, 0.2634127 , 0.2461668 , 0.22821508, 0.22066543,\n",
       "        0.22259362, 0.22933058],\n",
       "       [0.3030905 , 0.27626884, 0.26191014, 0.25079253, 0.2482054 ,\n",
       "        0.25785694, 0.26524654]], dtype=float32)"
      ]
     },
     "execution_count": 45,
     "metadata": {},
     "output_type": "execute_result"
    }
   ],
   "source": [
    "humidity_forecasts = model_humidity.predict(humidity_testX, batch_size=10)\n",
    "humidity_forecasts"
   ]
  },
  {
   "cell_type": "code",
   "execution_count": 175,
   "metadata": {
    "execution": {
     "iopub.execute_input": "2023-12-06T22:19:13.377259Z",
     "iopub.status.busy": "2023-12-06T22:19:13.376877Z",
     "iopub.status.idle": "2023-12-06T22:19:13.385380Z",
     "shell.execute_reply": "2023-12-06T22:19:13.384604Z",
     "shell.execute_reply.started": "2023-12-06T22:19:13.377230Z"
    }
   },
   "outputs": [
    {
     "name": "stdout",
     "output_type": "stream",
     "text": [
      "1 RMSE: 0.110881\n",
      "2 RMSE: 0.087598\n",
      "3 RMSE: 0.090285\n",
      "4 RMSE: 0.053711\n",
      "5 RMSE: 0.045714\n",
      "6 RMSE: 0.049216\n"
     ]
    }
   ],
   "source": [
    "evaluate_forecasts(humidity_testY, humidity_forecasts, 6)"
   ]
  },
  {
   "cell_type": "markdown",
   "metadata": {},
   "source": [
    "# Compare forecasts"
   ]
  },
  {
   "cell_type": "code",
   "execution_count": 66,
   "metadata": {
    "execution": {
     "iopub.execute_input": "2023-12-07T01:43:18.858833Z",
     "iopub.status.busy": "2023-12-07T01:43:18.858321Z",
     "iopub.status.idle": "2023-12-07T01:43:18.881630Z",
     "shell.execute_reply": "2023-12-07T01:43:18.880434Z",
     "shell.execute_reply.started": "2023-12-07T01:43:18.858788Z"
    }
   },
   "outputs": [
    {
     "data": {
      "text/html": [
       "<div>\n",
       "<style scoped>\n",
       "    .dataframe tbody tr th:only-of-type {\n",
       "        vertical-align: middle;\n",
       "    }\n",
       "\n",
       "    .dataframe tbody tr th {\n",
       "        vertical-align: top;\n",
       "    }\n",
       "\n",
       "    .dataframe thead th {\n",
       "        text-align: right;\n",
       "    }\n",
       "</style>\n",
       "<table border=\"1\" class=\"dataframe\">\n",
       "  <thead>\n",
       "    <tr style=\"text-align: right;\">\n",
       "      <th></th>\n",
       "      <th>date</th>\n",
       "      <th>pressure_pred</th>\n",
       "      <th>temp_pred</th>\n",
       "      <th>humidity_pred</th>\n",
       "    </tr>\n",
       "  </thead>\n",
       "  <tbody>\n",
       "    <tr>\n",
       "      <th>2879</th>\n",
       "      <td>2016-11-21</td>\n",
       "      <td>979.174683</td>\n",
       "      <td>282.760803</td>\n",
       "      <td>4.617891</td>\n",
       "    </tr>\n",
       "    <tr>\n",
       "      <th>2880</th>\n",
       "      <td>2016-11-22</td>\n",
       "      <td>982.101318</td>\n",
       "      <td>282.096100</td>\n",
       "      <td>4.636274</td>\n",
       "    </tr>\n",
       "    <tr>\n",
       "      <th>2881</th>\n",
       "      <td>2016-11-23</td>\n",
       "      <td>983.852722</td>\n",
       "      <td>281.719543</td>\n",
       "      <td>4.596928</td>\n",
       "    </tr>\n",
       "    <tr>\n",
       "      <th>2882</th>\n",
       "      <td>2016-11-24</td>\n",
       "      <td>985.397888</td>\n",
       "      <td>280.960297</td>\n",
       "      <td>4.449830</td>\n",
       "    </tr>\n",
       "    <tr>\n",
       "      <th>2883</th>\n",
       "      <td>2016-11-25</td>\n",
       "      <td>986.401245</td>\n",
       "      <td>280.653717</td>\n",
       "      <td>4.301166</td>\n",
       "    </tr>\n",
       "  </tbody>\n",
       "</table>\n",
       "</div>"
      ],
      "text/plain": [
       "            date  pressure_pred   temp_pred  humidity_pred\n",
       "2879  2016-11-21     979.174683  282.760803       4.617891\n",
       "2880  2016-11-22     982.101318  282.096100       4.636274\n",
       "2881  2016-11-23     983.852722  281.719543       4.596928\n",
       "2882  2016-11-24     985.397888  280.960297       4.449830\n",
       "2883  2016-11-25     986.401245  280.653717       4.301166"
      ]
     },
     "execution_count": 66,
     "metadata": {},
     "output_type": "execute_result"
    }
   ],
   "source": [
    "predictions = pd.DataFrame({\"date\": test_dates, \"pressure_pred\": pressure_forecasts.reshape(42), \"temp_pred\": temp_forecasts.reshape(42), \"humidity_pred\": humidity_forecasts.reshape(42)})\n",
    "predictions[[\"pressure_pred\", \"temp_pred\", \"humidity_pred\"]] = scaler.inverse_transform(predictions[[\"pressure_pred\", \"temp_pred\", \"humidity_pred\"]])\n",
    "predictions.head(5)"
   ]
  },
  {
   "cell_type": "code",
   "execution_count": 70,
   "metadata": {
    "execution": {
     "iopub.execute_input": "2023-12-07T01:46:39.522314Z",
     "iopub.status.busy": "2023-12-07T01:46:39.521544Z",
     "iopub.status.idle": "2023-12-07T01:46:39.529687Z",
     "shell.execute_reply": "2023-12-07T01:46:39.528268Z",
     "shell.execute_reply.started": "2023-12-07T01:46:39.522271Z"
    }
   },
   "outputs": [],
   "source": [
    "pressure_train_ts = dailydf[\"pressure\"][0:train_size]\n",
    "pressure_test_ts = dailydf[\"pressure\"][train_size:len(dataset)]\n",
    "\n",
    "temp_train_ts = dailydf[\"temperature\"][0:train_size]\n",
    "temp_test_ts = dailydf[\"temperature\"][train_size:len(dataset)]\n",
    "\n",
    "humidity_train_ts = dailydf[\"humidity\"][0:train_size]\n",
    "humidity_test_ts = dailydf[\"humidity\"][train_size:len(dataset)]"
   ]
  },
  {
   "cell_type": "code",
   "execution_count": 93,
   "metadata": {
    "execution": {
     "iopub.execute_input": "2023-12-07T02:00:01.282079Z",
     "iopub.status.busy": "2023-12-07T02:00:01.281693Z",
     "iopub.status.idle": "2023-12-07T02:00:01.636987Z",
     "shell.execute_reply": "2023-12-07T02:00:01.636066Z",
     "shell.execute_reply.started": "2023-12-07T02:00:01.282048Z"
    }
   },
   "outputs": [
    {
     "data": {
      "text/plain": [
       "<matplotlib.legend.Legend at 0x7a2e057b4850>"
      ]
     },
     "execution_count": 93,
     "metadata": {},
     "output_type": "execute_result"
    },
    {
     "data": {
      "image/png": "[encoded data removed]",
      "text/plain": [
       "<Figure size 1000x600 with 1 Axes>"
      ]
     },
     "metadata": {},
     "output_type": "display_data"
    }
   ],
   "source": [
    "plt.figure(figsize=(10,6))\n",
    "plt.grid(True)\n",
    "plt.xlabel('Dates')\n",
    "plt.ylabel('Daily Avg Pressure')\n",
    "plt.plot(train_dates[-300:],pressure_train_ts[-300:], 'blue', label='Pressure train')\n",
    "plt.plot(predictions.date, pressure_test_ts, 'g', label='Pressure test')\n",
    "plt.plot(predictions.date, predictions.pressure_pred, 'orange', label='LSTS 7 day rolling prediction')\n",
    "plt.title(\"Pressure\")\n",
    "plt.legend()"
   ]
  },
  {
   "cell_type": "code",
   "execution_count": 92,
   "metadata": {
    "execution": {
     "iopub.execute_input": "2023-12-07T01:59:47.339274Z",
     "iopub.status.busy": "2023-12-07T01:59:47.338890Z",
     "iopub.status.idle": "2023-12-07T01:59:47.692372Z",
     "shell.execute_reply": "2023-12-07T01:59:47.690467Z",
     "shell.execute_reply.started": "2023-12-07T01:59:47.339247Z"
    }
   },
   "outputs": [
    {
     "data": {
      "text/plain": [
       "<matplotlib.legend.Legend at 0x7a2e0587ae00>"
      ]
     },
     "execution_count": 92,
     "metadata": {},
     "output_type": "execute_result"
    },
    {
     "data": {
      "image/png": "[encoded data removed]",
      "text/plain": [
       "<Figure size 1000x600 with 1 Axes>"
      ]
     },
     "metadata": {},
     "output_type": "display_data"
    }
   ],
   "source": [
    "plt.figure(figsize=(10,6))\n",
    "plt.grid(True)\n",
    "plt.xlabel('Dates')\n",
    "plt.ylabel('Daily Avg Temperature')\n",
    "plt.plot(train_dates[-300:],temp_train_ts[-300:], 'blue', label='Temperature train')\n",
    "plt.plot(predictions.date, temp_test_ts, 'g', label='Temperature test')\n",
    "plt.plot(predictions.date, predictions.temp_pred, 'orange', label='LSTS 7 day rolling prediction')\n",
    "plt.title(\"Temperature\")\n",
    "plt.legend()"
   ]
  },
  {
   "cell_type": "code",
   "execution_count": 94,
   "metadata": {
    "execution": {
     "iopub.execute_input": "2023-12-07T02:01:21.151125Z",
     "iopub.status.busy": "2023-12-07T02:01:21.150767Z",
     "iopub.status.idle": "2023-12-07T02:01:21.496738Z",
     "shell.execute_reply": "2023-12-07T02:01:21.495473Z",
     "shell.execute_reply.started": "2023-12-07T02:01:21.151097Z"
    }
   },
   "outputs": [
    {
     "data": {
      "text/plain": [
       "<matplotlib.legend.Legend at 0x7a2e057937c0>"
      ]
     },
     "execution_count": 94,
     "metadata": {},
     "output_type": "execute_result"
    },
    {
     "data": {
      "image/png": "[encoded data removed]",
      "text/plain": [
       "<Figure size 1000x600 with 1 Axes>"
      ]
     },
     "metadata": {},
     "output_type": "display_data"
    }
   ],
   "source": [
    "plt.figure(figsize=(10,6))\n",
    "plt.grid(True)\n",
    "plt.xlabel('Dates')\n",
    "plt.ylabel('Daily Avg Humidity')\n",
    "plt.plot(train_dates[-300:],humidity_train_ts[-300:], 'blue', label='Humidity train')\n",
    "plt.plot(predictions.date, humidity_test_ts, 'g', label='Humidity test')\n",
    "plt.plot(predictions.date, predictions.humidity_pred, 'orange', label='LSTS 7 day rolling prediction')\n",
    "plt.title(\"Humidity\")\n",
    "plt.legend()"
   ]
  },
  {
   "cell_type": "code",
   "execution_count": 101,
   "metadata": {
    "execution": {
     "iopub.execute_input": "2023-12-07T02:10:36.470125Z",
     "iopub.status.busy": "2023-12-07T02:10:36.469643Z",
     "iopub.status.idle": "2023-12-07T02:10:36.480366Z",
     "shell.execute_reply": "2023-12-07T02:10:36.478357Z",
     "shell.execute_reply.started": "2023-12-07T02:10:36.470091Z"
    }
   },
   "outputs": [
    {
     "name": "stdout",
     "output_type": "stream",
     "text": [
      "MAE for Pressure Prediction is 9.83366799329323\n",
      "PM for Pressure Prediction is 2.7672238311178115\n"
     ]
    }
   ],
   "source": [
    "mae1 = np.mean(np.abs(predictions.pressure_pred - pressure_test_ts))\n",
    "pm1 = np.sum(np.square(predictions.pressure_pred - pressure_test_ts))/np.sum(np.square(pressure_test_ts-np.mean(pressure_test_ts)))\n",
    "\n",
    "print(\"MAE for Pressure Prediction is\", mae1)\n",
    "print(\"PM for Pressure Prediction is\", pm1)"
   ]
  },
  {
   "cell_type": "code",
   "execution_count": 102,
   "metadata": {
    "execution": {
     "iopub.execute_input": "2023-12-07T02:11:36.195800Z",
     "iopub.status.busy": "2023-12-07T02:11:36.195331Z",
     "iopub.status.idle": "2023-12-07T02:11:36.207663Z",
     "shell.execute_reply": "2023-12-07T02:11:36.205681Z",
     "shell.execute_reply.started": "2023-12-07T02:11:36.195764Z"
    }
   },
   "outputs": [
    {
     "name": "stdout",
     "output_type": "stream",
     "text": [
      "MAE for Temperature Prediction is 3.895369462916464\n",
      "PM for Temperature Prediction is 1.2209059965491076\n"
     ]
    }
   ],
   "source": [
    "mae2 = np.mean(np.abs(predictions.temp_pred - temp_test_ts))\n",
    "pm2 = np.sum(np.square(predictions.temp_pred - temp_test_ts))/np.sum(np.square(temp_test_ts-np.mean(temp_test_ts)))\n",
    "\n",
    "print(\"MAE for Temperature Prediction is\", mae2)\n",
    "print(\"PM for Temperature Prediction is\", pm2)"
   ]
  },
  {
   "cell_type": "code",
   "execution_count": 103,
   "metadata": {
    "execution": {
     "iopub.execute_input": "2023-12-07T02:12:36.779682Z",
     "iopub.status.busy": "2023-12-07T02:12:36.779256Z",
     "iopub.status.idle": "2023-12-07T02:12:36.789432Z",
     "shell.execute_reply": "2023-12-07T02:12:36.787860Z",
     "shell.execute_reply.started": "2023-12-07T02:12:36.779651Z"
    }
   },
   "outputs": [
    {
     "name": "stdout",
     "output_type": "stream",
     "text": [
      "MAE for Humidity Prediction is 0.9026328788484845\n",
      "PM for Humidity Prediction is 1.2010388555587788\n"
     ]
    }
   ],
   "source": [
    "mae3 = np.mean(np.abs(predictions.humidity_pred - humidity_test_ts))\n",
    "pm3 = np.sum(np.square(predictions.humidity_pred - humidity_test_ts))/np.sum(np.square(humidity_test_ts-np.mean(humidity_test_ts)))\n",
    "\n",
    "print(\"MAE for Humidity Prediction is\", mae3)\n",
    "print(\"PM for Humidity Prediction is\", pm3)"
   ]
  }
 ],
 "metadata": {
  "kaggle": {
   "accelerator": "none",
   "dataSources": [
    {
     "datasetId": 1108632,
     "sourceId": 1862887,
     "sourceType": "datasetVersion"
    }
   ],
   "dockerImageVersionId": 30587,
   "isGpuEnabled": false,
   "isInternetEnabled": true,
   "language": "python",
   "sourceType": "notebook"
  },
  "kernelspec": {
   "display_name": "Python 3",
   "language": "python",
   "name": "python3"
  },
  "language_info": {
   "codemirror_mode": {
    "name": "ipython",
    "version": 3
   },
   "file_extension": ".py",
   "mimetype": "text/x-python",
   "name": "python",
   "nbconvert_exporter": "python",
   "pygments_lexer": "ipython3",
   "version": "3.7.6"
  }
 },
 "nbformat": 4,
 "nbformat_minor": 4
}
